{
 "cells": [
  {
   "cell_type": "markdown",
   "metadata": {},
   "source": [
    "# Задание 2.1 - Нейронные сети\n",
    "\n",
    "В этом задании вы реализуете и натренируете настоящую нейроную сеть своими руками!\n",
    "\n",
    "В некотором смысле это будет расширением прошлого задания - нам нужно просто составить несколько линейных классификаторов вместе!\n",
    "\n",
    "<img src=\"https://i.redd.it/n9fgba8b0qr01.png\" alt=\"Stack_more_layers\" width=\"400px\"/>"
   ]
  },
  {
   "cell_type": "code",
   "execution_count": 1,
   "metadata": {},
   "outputs": [],
   "source": [
    "import numpy as np\n",
    "import matplotlib.pyplot as plt\n",
    "\n",
    "%matplotlib inline\n",
    "\n",
    "%load_ext autoreload\n",
    "%autoreload 2"
   ]
  },
  {
   "cell_type": "code",
   "execution_count": 2,
   "metadata": {},
   "outputs": [],
   "source": [
    "from dataset import load_svhn, random_split_train_val\n",
    "from gradient_check import check_layer_gradient, check_layer_param_gradient, check_model_gradient\n",
    "from layers import FullyConnectedLayer, ReLULayer\n",
    "from model import TwoLayerNet\n",
    "from trainer import Trainer, Dataset\n",
    "from optim import SGD, MomentumSGD\n",
    "from metrics import multiclass_accuracy"
   ]
  },
  {
   "cell_type": "markdown",
   "metadata": {},
   "source": [
    "# Загружаем данные\n",
    "\n",
    "И разделяем их на training и validation."
   ]
  },
  {
   "cell_type": "code",
   "execution_count": 3,
   "metadata": {},
   "outputs": [],
   "source": [
    "def prepare_for_neural_network(train_X, test_X):\n",
    "    train_flat = train_X.reshape(train_X.shape[0], -1).astype(float) / 255.0\n",
    "    test_flat = test_X.reshape(test_X.shape[0], -1).astype(float) / 255.0\n",
    "    \n",
    "    # Subtract mean\n",
    "    mean_image = np.mean(train_flat, axis = 0)\n",
    "    train_flat -= mean_image\n",
    "    test_flat -= mean_image\n",
    "    \n",
    "    return train_flat, test_flat\n",
    "    \n",
    "train_X, train_y, test_X, test_y = load_svhn(\"data\", max_train=10000, max_test=1000)    \n",
    "train_X, test_X = prepare_for_neural_network(train_X, test_X)\n",
    "# Split train into train and val\n",
    "train_X, train_y, val_X, val_y = random_split_train_val(train_X, train_y, num_val = 1000)"
   ]
  },
  {
   "cell_type": "markdown",
   "metadata": {},
   "source": [
    "# Как всегда, начинаем с кирпичиков\n",
    "\n",
    "Мы будем реализовывать необходимые нам слои по очереди. Каждый слой должен реализовать:\n",
    "- прямой проход (forward pass), который генерирует выход слоя по входу и запоминает необходимые данные\n",
    "- обратный проход (backward pass), который получает градиент по выходу слоя и вычисляет градиент по входу и по параметрам\n",
    "\n",
    "Начнем с ReLU, у которого параметров нет."
   ]
  },
  {
   "cell_type": "code",
   "execution_count": 4,
   "metadata": {
    "scrolled": false
   },
   "outputs": [
    {
     "name": "stdout",
     "output_type": "stream",
     "text": [
      "Gradient check passed!\n"
     ]
    }
   ],
   "source": [
    "# TODO: Implement ReLULayer layer in layers.py\n",
    "# Note: you'll need to copy implementation of the gradient_check function from the previous assignment\n",
    "\n",
    "X = np.array([[1,-2,3],\n",
    "              [-1, 2, 0.1]\n",
    "              ])\n",
    "\n",
    "assert check_layer_gradient(ReLULayer(), X)"
   ]
  },
  {
   "cell_type": "markdown",
   "metadata": {},
   "source": [
    "А теперь реализуем полносвязный слой (fully connected layer), у которого будет два массива параметров: W (weights) и B (bias).\n",
    "\n",
    "Все параметры наши слои будут использовать для параметров специальный класс `Param`, в котором будут храниться значения параметров и градиенты этих параметров, вычисляемые во время обратного прохода.\n",
    "\n",
    "Это даст возможность аккумулировать (суммировать) градиенты из разных частей функции потерь, например, из cross-entropy loss и regularization loss."
   ]
  },
  {
   "cell_type": "code",
   "execution_count": 5,
   "metadata": {},
   "outputs": [
    {
     "name": "stdout",
     "output_type": "stream",
     "text": [
      "Gradient check passed!\n",
      "Gradient check passed!\n",
      "Gradient check passed!\n"
     ]
    }
   ],
   "source": [
    "# TODO: Implement FullyConnected layer forward and backward methods\n",
    "assert check_layer_gradient(FullyConnectedLayer(3, 4), X)\n",
    "# TODO: Implement storing gradients for W and B\n",
    "assert check_layer_param_gradient(FullyConnectedLayer(3, 4), X, 'W')\n",
    "assert check_layer_param_gradient(FullyConnectedLayer(3, 4), X, 'B')"
   ]
  },
  {
   "cell_type": "markdown",
   "metadata": {},
   "source": [
    "## Создаем нейронную сеть\n",
    "\n",
    "Теперь мы реализуем простейшую нейронную сеть с двумя полносвязным слоями и нелинейностью ReLU. Реализуйте функцию `compute_loss_and_gradients`, она должна запустить прямой и обратный проход через оба слоя для вычисления градиентов.\n",
    "\n",
    "Не забудьте реализовать очистку градиентов в начале функции."
   ]
  },
  {
   "cell_type": "code",
   "execution_count": 6,
   "metadata": {},
   "outputs": [
    {
     "name": "stdout",
     "output_type": "stream",
     "text": [
      "Checking gradient for inputLayerW\n",
      "Gradient check passed!\n",
      "Checking gradient for inputLayerB\n",
      "Gradient check passed!\n",
      "Checking gradient for outputLayerW\n",
      "Gradient check passed!\n",
      "Checking gradient for outputLayerB\n",
      "Gradient check passed!\n"
     ]
    },
    {
     "data": {
      "text/plain": [
       "True"
      ]
     },
     "execution_count": 6,
     "metadata": {},
     "output_type": "execute_result"
    }
   ],
   "source": [
    "# TODO: In model.py, implement compute_loss_and_gradients function\n",
    "model = TwoLayerNet(n_input = train_X.shape[1], n_output = 10, hidden_layer_size = 3, reg = 0)\n",
    "loss = model.compute_loss_and_gradients(train_X[:2], train_y[:2])\n",
    "\n",
    "# TODO Now implement backward pass and aggregate all of the params\n",
    "check_model_gradient(model, train_X[:2], train_y[:2])"
   ]
  },
  {
   "cell_type": "markdown",
   "metadata": {},
   "source": [
    "Теперь добавьте к модели регуляризацию - она должна прибавляться к loss и делать свой вклад в градиенты."
   ]
  },
  {
   "cell_type": "code",
   "execution_count": 7,
   "metadata": {},
   "outputs": [
    {
     "name": "stdout",
     "output_type": "stream",
     "text": [
      "Checking gradient for inputLayerW\n",
      "Gradient check passed!\n",
      "Checking gradient for inputLayerB\n",
      "Gradient check passed!\n",
      "Checking gradient for outputLayerW\n",
      "Gradient check passed!\n",
      "Checking gradient for outputLayerB\n",
      "Gradient check passed!\n"
     ]
    },
    {
     "data": {
      "text/plain": [
       "True"
      ]
     },
     "execution_count": 7,
     "metadata": {},
     "output_type": "execute_result"
    }
   ],
   "source": [
    "# TODO Now implement l2 regularization in the forward and backward pass\n",
    "model_with_reg = TwoLayerNet(n_input = train_X.shape[1], n_output = 10, hidden_layer_size = 3, reg = 1e1)\n",
    "loss_with_reg = model_with_reg.compute_loss_and_gradients(train_X[:2], train_y[:2])\n",
    "assert loss_with_reg > loss and not np.isclose(loss_with_reg, loss), \\\n",
    "    \"Loss with regularization (%2.4f) should be higher than without it (%2.4f)!\" % (loss, loss_with_reg)\n",
    "\n",
    "check_model_gradient(model_with_reg, train_X[:2], train_y[:2])"
   ]
  },
  {
   "cell_type": "markdown",
   "metadata": {},
   "source": [
    "Также реализуем функцию предсказания (вычисления значения) модели на новых данных.\n",
    "\n",
    "Какое значение точности мы ожидаем увидеть до начала тренировки?"
   ]
  },
  {
   "cell_type": "code",
   "execution_count": 8,
   "metadata": {},
   "outputs": [
    {
     "data": {
      "text/plain": [
       "0.1"
      ]
     },
     "execution_count": 8,
     "metadata": {},
     "output_type": "execute_result"
    }
   ],
   "source": [
    "# Finally, implement predict function!\n",
    "\n",
    "# TODO: Implement predict function\n",
    "# What would be the value we expect?\n",
    "multiclass_accuracy(model_with_reg.predict(train_X[:30]), train_y[:30]) "
   ]
  },
  {
   "cell_type": "markdown",
   "metadata": {},
   "source": [
    "# Допишем код для процесса тренировки\n",
    "\n",
    "Если все реализовано корректно, значение функции ошибки должно уменьшаться с каждой эпохой, пусть и медленно. Не беспокойтесь пока про validation accuracy."
   ]
  },
  {
   "cell_type": "code",
   "execution_count": 9,
   "metadata": {},
   "outputs": [
    {
     "name": "stdout",
     "output_type": "stream",
     "text": [
      "Epoch: 0, Loss: 2.321311, Train accuracy: 0.196667, val accuracy: 0.206000\n",
      "Epoch: 1, Loss: 2.302289, Train accuracy: 0.196667, val accuracy: 0.206000\n",
      "Epoch: 2, Loss: 2.302285, Train accuracy: 0.148222, val accuracy: 0.140000\n",
      "Epoch: 3, Loss: 2.302300, Train accuracy: 0.196667, val accuracy: 0.206000\n",
      "Epoch: 4, Loss: 2.302301, Train accuracy: 0.196667, val accuracy: 0.206000\n",
      "Epoch: 5, Loss: 2.302295, Train accuracy: 0.196667, val accuracy: 0.206000\n",
      "Epoch: 6, Loss: 2.302299, Train accuracy: 0.196667, val accuracy: 0.206000\n",
      "Epoch: 7, Loss: 2.302290, Train accuracy: 0.196667, val accuracy: 0.206000\n",
      "Epoch: 8, Loss: 2.302300, Train accuracy: 0.196667, val accuracy: 0.206000\n",
      "Epoch: 9, Loss: 2.302300, Train accuracy: 0.196667, val accuracy: 0.206000\n",
      "Epoch: 10, Loss: 2.302304, Train accuracy: 0.196667, val accuracy: 0.206000\n",
      "Epoch: 11, Loss: 2.302289, Train accuracy: 0.196667, val accuracy: 0.206000\n",
      "Epoch: 12, Loss: 2.302295, Train accuracy: 0.196667, val accuracy: 0.206000\n",
      "Epoch: 13, Loss: 2.302304, Train accuracy: 0.196667, val accuracy: 0.206000\n",
      "Epoch: 14, Loss: 2.302299, Train accuracy: 0.196667, val accuracy: 0.206000\n",
      "Epoch: 15, Loss: 2.302287, Train accuracy: 0.196667, val accuracy: 0.206000\n",
      "Epoch: 16, Loss: 2.302298, Train accuracy: 0.196667, val accuracy: 0.206000\n",
      "Epoch: 17, Loss: 2.302297, Train accuracy: 0.148222, val accuracy: 0.140000\n",
      "Epoch: 18, Loss: 2.302291, Train accuracy: 0.196667, val accuracy: 0.206000\n",
      "Epoch: 19, Loss: 2.302291, Train accuracy: 0.196667, val accuracy: 0.206000\n"
     ]
    }
   ],
   "source": [
    "model = TwoLayerNet(n_input = train_X.shape[1], n_output = 10, hidden_layer_size = 100, reg = 1e1)\n",
    "dataset = Dataset(train_X, train_y, val_X, val_y)\n",
    "trainer = Trainer(model, dataset, SGD(), learning_rate = 1e-2)\n",
    "\n",
    "# TODO Implement missing pieces in Trainer.fit function\n",
    "# You should expect loss to go down every epoch, even if it's slow\n",
    "loss_history, train_history, val_history = trainer.fit()"
   ]
  },
  {
   "cell_type": "code",
   "execution_count": 10,
   "metadata": {},
   "outputs": [
    {
     "data": {
      "text/plain": [
       "[<matplotlib.lines.Line2D at 0x7f710b378370>]"
      ]
     },
     "execution_count": 10,
     "metadata": {},
     "output_type": "execute_result"
    },
    {
     "data": {
      "image/png": "[encoded data removed]",
      "text/plain": [
       "<Figure size 432x288 with 1 Axes>"
      ]
     },
     "metadata": {
      "needs_background": "light"
     },
     "output_type": "display_data"
    }
   ],
   "source": [
    "plt.plot(train_history)\n",
    "plt.plot(val_history)"
   ]
  },
  {
   "cell_type": "markdown",
   "metadata": {},
   "source": [
    "# Улучшаем процесс тренировки\n",
    "\n",
    "Мы реализуем несколько ключевых оптимизаций, необходимых для тренировки современных нейросетей."
   ]
  },
  {
   "cell_type": "markdown",
   "metadata": {},
   "source": [
    "## Уменьшение скорости обучения (learning rate decay)\n",
    "\n",
    "Одна из необходимых оптимизаций во время тренировки нейронных сетей - постепенное уменьшение скорости обучения по мере тренировки.\n",
    "\n",
    "Один из стандартных методов - уменьшение скорости обучения (learning rate) каждые N эпох на коэффициент d (часто называемый decay). Значения N и d, как всегда, являются гиперпараметрами и должны подбираться на основе эффективности на проверочных данных (validation data). \n",
    "\n",
    "В нашем случае N будет равным 1."
   ]
  },
  {
   "cell_type": "code",
   "execution_count": 11,
   "metadata": {},
   "outputs": [
    {
     "name": "stdout",
     "output_type": "stream",
     "text": [
      "Epoch: 0, Loss: 2.298679, Train accuracy: 0.196667, val accuracy: 0.206000\n",
      "Epoch: 1, Loss: 2.278273, Train accuracy: 0.196667, val accuracy: 0.206000\n",
      "Epoch: 2, Loss: 2.275767, Train accuracy: 0.196667, val accuracy: 0.206000\n",
      "Epoch: 3, Loss: 2.275189, Train accuracy: 0.196667, val accuracy: 0.206000\n",
      "Epoch: 4, Loss: 2.274649, Train accuracy: 0.196667, val accuracy: 0.206000\n",
      "Epoch: 5, Loss: 2.273863, Train accuracy: 0.196667, val accuracy: 0.206000\n",
      "Epoch: 6, Loss: 2.272956, Train accuracy: 0.196667, val accuracy: 0.206000\n",
      "Epoch: 7, Loss: 2.272185, Train accuracy: 0.196667, val accuracy: 0.206000\n",
      "Epoch: 8, Loss: 2.271845, Train accuracy: 0.196667, val accuracy: 0.206000\n",
      "Epoch: 9, Loss: 2.271667, Train accuracy: 0.196667, val accuracy: 0.206000\n",
      "Epoch: 10, Loss: 2.271560, Train accuracy: 0.196667, val accuracy: 0.206000\n",
      "Epoch: 11, Loss: 2.271589, Train accuracy: 0.196667, val accuracy: 0.206000\n",
      "Epoch: 12, Loss: 2.271573, Train accuracy: 0.196667, val accuracy: 0.206000\n",
      "Epoch: 13, Loss: 2.271544, Train accuracy: 0.196667, val accuracy: 0.206000\n",
      "Epoch: 14, Loss: 2.271559, Train accuracy: 0.196667, val accuracy: 0.206000\n",
      "Epoch: 15, Loss: 2.271582, Train accuracy: 0.196667, val accuracy: 0.206000\n",
      "Epoch: 16, Loss: 2.271574, Train accuracy: 0.196667, val accuracy: 0.206000\n",
      "Epoch: 17, Loss: 2.271575, Train accuracy: 0.196667, val accuracy: 0.206000\n",
      "Epoch: 18, Loss: 2.271495, Train accuracy: 0.196667, val accuracy: 0.206000\n",
      "Epoch: 19, Loss: 2.271563, Train accuracy: 0.196667, val accuracy: 0.206000\n"
     ]
    }
   ],
   "source": [
    "# TODO Implement learning rate decay inside Trainer.fit method\n",
    "# Decay should happen once per epoch\n",
    "\n",
    "model = TwoLayerNet(n_input = train_X.shape[1], n_output = 10, hidden_layer_size = 100, reg = 1e-1)\n",
    "dataset = Dataset(train_X, train_y, val_X, val_y)\n",
    "trainer = Trainer(model, dataset, SGD(), learning_rate_decay=0.99)\n",
    "\n",
    "initial_learning_rate = trainer.learning_rate\n",
    "loss_history, train_history, val_history = trainer.fit()\n",
    "\n",
    "assert trainer.learning_rate < initial_learning_rate, \"Learning rate should've been reduced\"\n",
    "assert trainer.learning_rate > 0.5*initial_learning_rate, \"Learning rate shouldn'tve been reduced that much!\""
   ]
  },
  {
   "cell_type": "markdown",
   "metadata": {},
   "source": [
    "# Накопление импульса (Momentum SGD)\n",
    "\n",
    "Другой большой класс оптимизаций - использование более эффективных методов градиентного спуска. Мы реализуем один из них - накопление импульса (Momentum SGD).\n",
    "\n",
    "Этот метод хранит скорость движения, использует градиент для ее изменения на каждом шаге, и изменяет веса пропорционально значению скорости.\n",
    "(Физическая аналогия: Вместо скорости градиенты теперь будут задавать ускорение, но будет присутствовать сила трения.)\n",
    "\n",
    "```\n",
    "velocity = momentum * velocity - learning_rate * gradient \n",
    "w = w + velocity\n",
    "```\n",
    "\n",
    "`momentum` здесь коэффициент затухания, который тоже является гиперпараметром (к счастью, для него часто есть хорошее значение по умолчанию, типичный диапазон -- 0.8-0.99).\n",
    "\n",
    "Несколько полезных ссылок, где метод разбирается более подробно:  \n",
    "http://cs231n.github.io/neural-networks-3/#sgd  \n",
    "https://distill.pub/2017/momentum/"
   ]
  },
  {
   "cell_type": "code",
   "execution_count": 12,
   "metadata": {},
   "outputs": [
    {
     "name": "stdout",
     "output_type": "stream",
     "text": [
      "Epoch: 0, Loss: 2.327797, Train accuracy: 0.196667, val accuracy: 0.206000\n",
      "Epoch: 1, Loss: 2.317322, Train accuracy: 0.196667, val accuracy: 0.206000\n",
      "Epoch: 2, Loss: 2.309072, Train accuracy: 0.196667, val accuracy: 0.206000\n",
      "Epoch: 3, Loss: 2.302554, Train accuracy: 0.196667, val accuracy: 0.206000\n",
      "Epoch: 4, Loss: 2.297383, Train accuracy: 0.196667, val accuracy: 0.206000\n",
      "Epoch: 5, Loss: 2.293268, Train accuracy: 0.196667, val accuracy: 0.206000\n",
      "Epoch: 6, Loss: 2.289971, Train accuracy: 0.196667, val accuracy: 0.206000\n",
      "Epoch: 7, Loss: 2.287328, Train accuracy: 0.196667, val accuracy: 0.206000\n",
      "Epoch: 8, Loss: 2.285198, Train accuracy: 0.196667, val accuracy: 0.206000\n",
      "Epoch: 9, Loss: 2.283473, Train accuracy: 0.196667, val accuracy: 0.206000\n",
      "Epoch: 10, Loss: 2.282073, Train accuracy: 0.196667, val accuracy: 0.206000\n",
      "Epoch: 11, Loss: 2.280930, Train accuracy: 0.196667, val accuracy: 0.206000\n",
      "Epoch: 12, Loss: 2.279995, Train accuracy: 0.196667, val accuracy: 0.206000\n",
      "Epoch: 13, Loss: 2.279228, Train accuracy: 0.196667, val accuracy: 0.206000\n",
      "Epoch: 14, Loss: 2.278595, Train accuracy: 0.196667, val accuracy: 0.206000\n",
      "Epoch: 15, Loss: 2.278068, Train accuracy: 0.196667, val accuracy: 0.206000\n",
      "Epoch: 16, Loss: 2.277631, Train accuracy: 0.196667, val accuracy: 0.206000\n",
      "Epoch: 17, Loss: 2.277267, Train accuracy: 0.196667, val accuracy: 0.206000\n",
      "Epoch: 18, Loss: 2.276960, Train accuracy: 0.196667, val accuracy: 0.206000\n",
      "Epoch: 19, Loss: 2.276704, Train accuracy: 0.196667, val accuracy: 0.206000\n"
     ]
    }
   ],
   "source": [
    "# TODO: Implement MomentumSGD.update function in optim.py\n",
    "\n",
    "model = TwoLayerNet(n_input = train_X.shape[1], n_output = 10, hidden_layer_size = 100, reg = 1e-1)\n",
    "dataset = Dataset(train_X, train_y, val_X, val_y)\n",
    "trainer = Trainer(model, dataset, MomentumSGD(), learning_rate=1e-4, learning_rate_decay=0.99)\n",
    "\n",
    "# You should see even better results than before!\n",
    "loss_history, train_history, val_history = trainer.fit()"
   ]
  },
  {
   "cell_type": "markdown",
   "metadata": {},
   "source": [
    "# Ну что, давайте уже тренировать сеть!"
   ]
  },
  {
   "cell_type": "markdown",
   "metadata": {},
   "source": [
    "## Последний тест - переобучимся (overfit) на маленьком наборе данных\n",
    "\n",
    "Хороший способ проверить, все ли реализовано корректно - переобучить сеть на маленьком наборе данных.  \n",
    "Наша модель обладает достаточной мощностью, чтобы приблизить маленький набор данных идеально, поэтому мы ожидаем, что на нем мы быстро дойдем до 100% точности на тренировочном наборе. \n",
    "\n",
    "Если этого не происходит, то где-то была допущена ошибка!"
   ]
  },
  {
   "cell_type": "code",
   "execution_count": 13,
   "metadata": {},
   "outputs": [
    {
     "name": "stdout",
     "output_type": "stream",
     "text": [
      "Epoch: 0, Loss: 2.338513, Train accuracy: 0.200000, val accuracy: 0.133333\n",
      "Epoch: 1, Loss: 2.320917, Train accuracy: 0.200000, val accuracy: 0.133333\n",
      "Epoch: 2, Loss: 2.309354, Train accuracy: 0.200000, val accuracy: 0.133333\n",
      "Epoch: 3, Loss: 2.302162, Train accuracy: 0.200000, val accuracy: 0.133333\n",
      "Epoch: 4, Loss: 2.291612, Train accuracy: 0.200000, val accuracy: 0.133333\n",
      "Epoch: 5, Loss: 2.279376, Train accuracy: 0.200000, val accuracy: 0.133333\n",
      "Epoch: 6, Loss: 2.272259, Train accuracy: 0.200000, val accuracy: 0.133333\n",
      "Epoch: 7, Loss: 2.249074, Train accuracy: 0.200000, val accuracy: 0.066667\n",
      "Epoch: 8, Loss: 2.224796, Train accuracy: 0.333333, val accuracy: 0.066667\n",
      "Epoch: 9, Loss: 2.160366, Train accuracy: 0.400000, val accuracy: 0.000000\n",
      "Epoch: 10, Loss: 2.077119, Train accuracy: 0.400000, val accuracy: 0.000000\n",
      "Epoch: 11, Loss: 2.023314, Train accuracy: 0.400000, val accuracy: 0.000000\n",
      "Epoch: 12, Loss: 1.990641, Train accuracy: 0.333333, val accuracy: 0.000000\n",
      "Epoch: 13, Loss: 1.882378, Train accuracy: 0.333333, val accuracy: 0.000000\n",
      "Epoch: 14, Loss: 1.865913, Train accuracy: 0.400000, val accuracy: 0.000000\n",
      "Epoch: 15, Loss: 1.850085, Train accuracy: 0.333333, val accuracy: 0.000000\n",
      "Epoch: 16, Loss: 1.830226, Train accuracy: 0.400000, val accuracy: 0.000000\n",
      "Epoch: 17, Loss: 1.838123, Train accuracy: 0.400000, val accuracy: 0.000000\n",
      "Epoch: 18, Loss: 1.812237, Train accuracy: 0.400000, val accuracy: 0.000000\n",
      "Epoch: 19, Loss: 1.816095, Train accuracy: 0.466667, val accuracy: 0.000000\n",
      "Epoch: 20, Loss: 1.761647, Train accuracy: 0.400000, val accuracy: 0.000000\n",
      "Epoch: 21, Loss: 1.769044, Train accuracy: 0.400000, val accuracy: 0.000000\n",
      "Epoch: 22, Loss: 1.771029, Train accuracy: 0.400000, val accuracy: 0.066667\n",
      "Epoch: 23, Loss: 1.753963, Train accuracy: 0.466667, val accuracy: 0.000000\n",
      "Epoch: 24, Loss: 1.715191, Train accuracy: 0.466667, val accuracy: 0.000000\n",
      "Epoch: 25, Loss: 1.720617, Train accuracy: 0.466667, val accuracy: 0.000000\n",
      "Epoch: 26, Loss: 1.700544, Train accuracy: 0.466667, val accuracy: 0.066667\n",
      "Epoch: 27, Loss: 1.720224, Train accuracy: 0.466667, val accuracy: 0.066667\n",
      "Epoch: 28, Loss: 1.739972, Train accuracy: 0.466667, val accuracy: 0.000000\n",
      "Epoch: 29, Loss: 1.722064, Train accuracy: 0.466667, val accuracy: 0.000000\n",
      "Epoch: 30, Loss: 1.677093, Train accuracy: 0.533333, val accuracy: 0.000000\n",
      "Epoch: 31, Loss: 1.659074, Train accuracy: 0.533333, val accuracy: 0.066667\n",
      "Epoch: 32, Loss: 1.643295, Train accuracy: 0.533333, val accuracy: 0.066667\n",
      "Epoch: 33, Loss: 1.650655, Train accuracy: 0.533333, val accuracy: 0.066667\n",
      "Epoch: 34, Loss: 1.648200, Train accuracy: 0.600000, val accuracy: 0.000000\n",
      "Epoch: 35, Loss: 1.605776, Train accuracy: 0.600000, val accuracy: 0.066667\n",
      "Epoch: 36, Loss: 1.613467, Train accuracy: 0.600000, val accuracy: 0.066667\n",
      "Epoch: 37, Loss: 1.603818, Train accuracy: 0.600000, val accuracy: 0.066667\n",
      "Epoch: 38, Loss: 1.607823, Train accuracy: 0.600000, val accuracy: 0.066667\n",
      "Epoch: 39, Loss: 1.557173, Train accuracy: 0.600000, val accuracy: 0.066667\n",
      "Epoch: 40, Loss: 1.571724, Train accuracy: 0.666667, val accuracy: 0.066667\n",
      "Epoch: 41, Loss: 1.563613, Train accuracy: 0.666667, val accuracy: 0.066667\n",
      "Epoch: 42, Loss: 1.535058, Train accuracy: 0.666667, val accuracy: 0.066667\n",
      "Epoch: 43, Loss: 1.553322, Train accuracy: 0.666667, val accuracy: 0.066667\n",
      "Epoch: 44, Loss: 1.521862, Train accuracy: 0.666667, val accuracy: 0.066667\n",
      "Epoch: 45, Loss: 1.551279, Train accuracy: 0.733333, val accuracy: 0.066667\n",
      "Epoch: 46, Loss: 1.533226, Train accuracy: 0.733333, val accuracy: 0.066667\n",
      "Epoch: 47, Loss: 1.514212, Train accuracy: 0.733333, val accuracy: 0.066667\n",
      "Epoch: 48, Loss: 1.489937, Train accuracy: 0.800000, val accuracy: 0.066667\n",
      "Epoch: 49, Loss: 1.510153, Train accuracy: 0.733333, val accuracy: 0.133333\n",
      "Epoch: 50, Loss: 1.522101, Train accuracy: 0.733333, val accuracy: 0.000000\n",
      "Epoch: 51, Loss: 1.464724, Train accuracy: 0.733333, val accuracy: 0.066667\n",
      "Epoch: 52, Loss: 1.432964, Train accuracy: 0.733333, val accuracy: 0.066667\n",
      "Epoch: 53, Loss: 1.423723, Train accuracy: 0.733333, val accuracy: 0.066667\n",
      "Epoch: 54, Loss: 1.432805, Train accuracy: 0.733333, val accuracy: 0.066667\n",
      "Epoch: 55, Loss: 1.411636, Train accuracy: 0.733333, val accuracy: 0.066667\n",
      "Epoch: 56, Loss: 1.431253, Train accuracy: 0.666667, val accuracy: 0.000000\n",
      "Epoch: 57, Loss: 1.424014, Train accuracy: 0.733333, val accuracy: 0.066667\n",
      "Epoch: 58, Loss: 1.431763, Train accuracy: 0.733333, val accuracy: 0.066667\n",
      "Epoch: 59, Loss: 1.393281, Train accuracy: 0.733333, val accuracy: 0.066667\n",
      "Epoch: 60, Loss: 1.386942, Train accuracy: 0.733333, val accuracy: 0.066667\n",
      "Epoch: 61, Loss: 1.392408, Train accuracy: 0.733333, val accuracy: 0.066667\n",
      "Epoch: 62, Loss: 1.389754, Train accuracy: 0.733333, val accuracy: 0.066667\n",
      "Epoch: 63, Loss: 1.371687, Train accuracy: 0.733333, val accuracy: 0.066667\n",
      "Epoch: 64, Loss: 1.383909, Train accuracy: 0.733333, val accuracy: 0.066667\n",
      "Epoch: 65, Loss: 1.382041, Train accuracy: 0.733333, val accuracy: 0.066667\n",
      "Epoch: 66, Loss: 1.392579, Train accuracy: 0.733333, val accuracy: 0.000000\n",
      "Epoch: 67, Loss: 1.378158, Train accuracy: 0.733333, val accuracy: 0.066667\n",
      "Epoch: 68, Loss: 1.377792, Train accuracy: 0.733333, val accuracy: 0.066667\n",
      "Epoch: 69, Loss: 1.390032, Train accuracy: 0.733333, val accuracy: 0.066667\n",
      "Epoch: 70, Loss: 1.372182, Train accuracy: 0.733333, val accuracy: 0.066667\n",
      "Epoch: 71, Loss: 1.372677, Train accuracy: 0.733333, val accuracy: 0.000000\n",
      "Epoch: 72, Loss: 1.375066, Train accuracy: 0.733333, val accuracy: 0.066667\n",
      "Epoch: 73, Loss: 1.363849, Train accuracy: 0.733333, val accuracy: 0.066667\n",
      "Epoch: 74, Loss: 1.382682, Train accuracy: 0.733333, val accuracy: 0.066667\n",
      "Epoch: 75, Loss: 1.397308, Train accuracy: 0.800000, val accuracy: 0.066667\n",
      "Epoch: 76, Loss: 1.371160, Train accuracy: 0.800000, val accuracy: 0.000000\n",
      "Epoch: 77, Loss: 1.382351, Train accuracy: 0.800000, val accuracy: 0.066667\n",
      "Epoch: 78, Loss: 1.391005, Train accuracy: 0.800000, val accuracy: 0.066667\n",
      "Epoch: 79, Loss: 1.385355, Train accuracy: 0.800000, val accuracy: 0.066667\n",
      "Epoch: 80, Loss: 1.347869, Train accuracy: 0.866667, val accuracy: 0.066667\n",
      "Epoch: 81, Loss: 1.356205, Train accuracy: 0.866667, val accuracy: 0.066667\n",
      "Epoch: 82, Loss: 1.400631, Train accuracy: 0.866667, val accuracy: 0.000000\n",
      "Epoch: 83, Loss: 1.365190, Train accuracy: 0.866667, val accuracy: 0.000000\n",
      "Epoch: 84, Loss: 1.349667, Train accuracy: 0.866667, val accuracy: 0.066667\n",
      "Epoch: 85, Loss: 1.357898, Train accuracy: 0.866667, val accuracy: 0.066667\n",
      "Epoch: 86, Loss: 1.365172, Train accuracy: 0.933333, val accuracy: 0.066667\n",
      "Epoch: 87, Loss: 1.370781, Train accuracy: 0.933333, val accuracy: 0.066667\n",
      "Epoch: 88, Loss: 1.346892, Train accuracy: 0.866667, val accuracy: 0.066667\n",
      "Epoch: 89, Loss: 1.352720, Train accuracy: 0.933333, val accuracy: 0.066667\n",
      "Epoch: 90, Loss: 1.341590, Train accuracy: 0.933333, val accuracy: 0.066667\n",
      "Epoch: 91, Loss: 1.339883, Train accuracy: 0.933333, val accuracy: 0.066667\n",
      "Epoch: 92, Loss: 1.344367, Train accuracy: 0.933333, val accuracy: 0.066667\n",
      "Epoch: 93, Loss: 1.359988, Train accuracy: 0.933333, val accuracy: 0.000000\n",
      "Epoch: 94, Loss: 1.343300, Train accuracy: 0.933333, val accuracy: 0.066667\n",
      "Epoch: 95, Loss: 1.337527, Train accuracy: 0.933333, val accuracy: 0.066667\n",
      "Epoch: 96, Loss: 1.345549, Train accuracy: 0.933333, val accuracy: 0.066667\n",
      "Epoch: 97, Loss: 1.353123, Train accuracy: 0.933333, val accuracy: 0.066667\n",
      "Epoch: 98, Loss: 1.332500, Train accuracy: 0.933333, val accuracy: 0.066667\n",
      "Epoch: 99, Loss: 1.333938, Train accuracy: 0.933333, val accuracy: 0.066667\n",
      "Epoch: 100, Loss: 1.330066, Train accuracy: 0.933333, val accuracy: 0.066667\n",
      "Epoch: 101, Loss: 1.325719, Train accuracy: 0.933333, val accuracy: 0.066667\n",
      "Epoch: 102, Loss: 1.328516, Train accuracy: 0.933333, val accuracy: 0.066667\n",
      "Epoch: 103, Loss: 1.320576, Train accuracy: 0.933333, val accuracy: 0.066667\n",
      "Epoch: 104, Loss: 1.324892, Train accuracy: 0.933333, val accuracy: 0.066667\n",
      "Epoch: 105, Loss: 1.310105, Train accuracy: 0.933333, val accuracy: 0.066667\n",
      "Epoch: 106, Loss: 1.320430, Train accuracy: 0.933333, val accuracy: 0.000000\n",
      "Epoch: 107, Loss: 1.308837, Train accuracy: 0.933333, val accuracy: 0.066667\n",
      "Epoch: 108, Loss: 1.296569, Train accuracy: 0.933333, val accuracy: 0.066667\n",
      "Epoch: 109, Loss: 1.298800, Train accuracy: 0.933333, val accuracy: 0.000000\n",
      "Epoch: 110, Loss: 1.305147, Train accuracy: 1.000000, val accuracy: 0.066667\n",
      "Epoch: 111, Loss: 1.292964, Train accuracy: 0.933333, val accuracy: 0.000000\n",
      "Epoch: 112, Loss: 1.294184, Train accuracy: 1.000000, val accuracy: 0.000000\n",
      "Epoch: 113, Loss: 1.283020, Train accuracy: 0.933333, val accuracy: 0.000000\n",
      "Epoch: 114, Loss: 1.286336, Train accuracy: 0.933333, val accuracy: 0.000000\n",
      "Epoch: 115, Loss: 1.311874, Train accuracy: 1.000000, val accuracy: 0.000000\n",
      "Epoch: 116, Loss: 1.307945, Train accuracy: 0.933333, val accuracy: 0.000000\n",
      "Epoch: 117, Loss: 1.278573, Train accuracy: 1.000000, val accuracy: 0.000000\n",
      "Epoch: 118, Loss: 1.274128, Train accuracy: 1.000000, val accuracy: 0.000000\n",
      "Epoch: 119, Loss: 1.299602, Train accuracy: 1.000000, val accuracy: 0.000000\n",
      "Epoch: 120, Loss: 1.308194, Train accuracy: 0.933333, val accuracy: 0.000000\n",
      "Epoch: 121, Loss: 1.284072, Train accuracy: 1.000000, val accuracy: 0.000000\n",
      "Epoch: 122, Loss: 1.268346, Train accuracy: 1.000000, val accuracy: 0.000000\n",
      "Epoch: 123, Loss: 1.279644, Train accuracy: 1.000000, val accuracy: 0.000000\n",
      "Epoch: 124, Loss: 1.261962, Train accuracy: 1.000000, val accuracy: 0.000000\n",
      "Epoch: 125, Loss: 1.286428, Train accuracy: 1.000000, val accuracy: 0.000000\n",
      "Epoch: 126, Loss: 1.256874, Train accuracy: 1.000000, val accuracy: 0.000000\n",
      "Epoch: 127, Loss: 1.267382, Train accuracy: 1.000000, val accuracy: 0.000000\n",
      "Epoch: 128, Loss: 1.266512, Train accuracy: 1.000000, val accuracy: 0.000000\n",
      "Epoch: 129, Loss: 1.268048, Train accuracy: 1.000000, val accuracy: 0.000000\n",
      "Epoch: 130, Loss: 1.267290, Train accuracy: 1.000000, val accuracy: 0.000000\n",
      "Epoch: 131, Loss: 1.290552, Train accuracy: 1.000000, val accuracy: 0.000000\n",
      "Epoch: 132, Loss: 1.297965, Train accuracy: 1.000000, val accuracy: 0.000000\n"
     ]
    },
    {
     "name": "stdout",
     "output_type": "stream",
     "text": [
      "Epoch: 133, Loss: 1.282717, Train accuracy: 0.933333, val accuracy: 0.000000\n",
      "Epoch: 134, Loss: 1.277372, Train accuracy: 1.000000, val accuracy: 0.000000\n",
      "Epoch: 135, Loss: 1.276435, Train accuracy: 1.000000, val accuracy: 0.000000\n",
      "Epoch: 136, Loss: 1.265663, Train accuracy: 1.000000, val accuracy: 0.000000\n",
      "Epoch: 137, Loss: 1.253758, Train accuracy: 1.000000, val accuracy: 0.000000\n",
      "Epoch: 138, Loss: 1.259296, Train accuracy: 1.000000, val accuracy: 0.000000\n",
      "Epoch: 139, Loss: 1.245549, Train accuracy: 1.000000, val accuracy: 0.000000\n",
      "Epoch: 140, Loss: 1.263141, Train accuracy: 1.000000, val accuracy: 0.000000\n",
      "Epoch: 141, Loss: 1.254392, Train accuracy: 1.000000, val accuracy: 0.000000\n",
      "Epoch: 142, Loss: 1.265931, Train accuracy: 1.000000, val accuracy: 0.000000\n",
      "Epoch: 143, Loss: 1.259925, Train accuracy: 1.000000, val accuracy: 0.000000\n",
      "Epoch: 144, Loss: 1.262231, Train accuracy: 1.000000, val accuracy: 0.000000\n",
      "Epoch: 145, Loss: 1.250383, Train accuracy: 1.000000, val accuracy: 0.000000\n",
      "Epoch: 146, Loss: 1.259467, Train accuracy: 1.000000, val accuracy: 0.000000\n",
      "Epoch: 147, Loss: 1.259928, Train accuracy: 1.000000, val accuracy: 0.000000\n",
      "Epoch: 148, Loss: 1.245491, Train accuracy: 1.000000, val accuracy: 0.000000\n",
      "Epoch: 149, Loss: 1.277881, Train accuracy: 1.000000, val accuracy: 0.000000\n"
     ]
    }
   ],
   "source": [
    "data_size = 15\n",
    "model = TwoLayerNet(n_input = train_X.shape[1], n_output = 10, hidden_layer_size = 100, reg = 1e-1)\n",
    "dataset = Dataset(train_X[:data_size], train_y[:data_size], val_X[:data_size], val_y[:data_size])\n",
    "trainer = Trainer(model, dataset, SGD(), learning_rate=1e-1, num_epochs=150, batch_size=5)\n",
    "\n",
    "# You should expect this to reach 1.0 training accuracy \n",
    "loss_history, train_history, val_history = trainer.fit()"
   ]
  },
  {
   "cell_type": "markdown",
   "metadata": {},
   "source": [
    "Теперь найдем гипепараметры, для которых этот процесс сходится быстрее.\n",
    "Если все реализовано корректно, то существуют параметры, при которых процесс сходится в **20** эпох или еще быстрее.\n",
    "Найдите их!"
   ]
  },
  {
   "cell_type": "code",
   "execution_count": 14,
   "metadata": {},
   "outputs": [
    {
     "name": "stdout",
     "output_type": "stream",
     "text": [
      "Epoch: 0, Loss: 2.328284, Train accuracy: 0.266667, val accuracy: 0.066667\n",
      "Epoch: 1, Loss: 2.288485, Train accuracy: 0.200000, val accuracy: 0.133333\n",
      "Epoch: 2, Loss: 2.226239, Train accuracy: 0.400000, val accuracy: 0.000000\n",
      "Epoch: 3, Loss: 2.100252, Train accuracy: 0.400000, val accuracy: 0.000000\n",
      "Epoch: 4, Loss: 1.902997, Train accuracy: 0.400000, val accuracy: 0.133333\n",
      "Epoch: 5, Loss: 1.904490, Train accuracy: 0.466667, val accuracy: 0.066667\n",
      "Epoch: 6, Loss: 1.823605, Train accuracy: 0.333333, val accuracy: 0.133333\n",
      "Epoch: 7, Loss: 1.518474, Train accuracy: 0.466667, val accuracy: 0.000000\n",
      "Epoch: 8, Loss: 1.583218, Train accuracy: 0.600000, val accuracy: 0.066667\n",
      "Epoch: 9, Loss: 1.416754, Train accuracy: 0.666667, val accuracy: 0.000000\n",
      "Epoch: 10, Loss: 1.343407, Train accuracy: 0.733333, val accuracy: 0.066667\n",
      "Epoch: 11, Loss: 1.105756, Train accuracy: 0.600000, val accuracy: 0.000000\n",
      "Epoch: 12, Loss: 1.424953, Train accuracy: 0.666667, val accuracy: 0.000000\n",
      "Epoch: 13, Loss: 1.051990, Train accuracy: 0.800000, val accuracy: 0.000000\n",
      "Epoch: 14, Loss: 0.808952, Train accuracy: 0.933333, val accuracy: 0.000000\n",
      "Epoch: 15, Loss: 0.644146, Train accuracy: 0.933333, val accuracy: 0.000000\n",
      "Epoch: 16, Loss: 0.553349, Train accuracy: 0.933333, val accuracy: 0.000000\n",
      "Epoch: 17, Loss: 0.476756, Train accuracy: 1.000000, val accuracy: 0.000000\n",
      "Epoch: 18, Loss: 0.410935, Train accuracy: 0.933333, val accuracy: 0.000000\n",
      "Epoch: 19, Loss: 0.361035, Train accuracy: 1.000000, val accuracy: 0.000000\n"
     ]
    }
   ],
   "source": [
    "# Now, tweak some hyper parameters and make it train to 1.0 accuracy in 20 epochs or less\n",
    "\n",
    "model = TwoLayerNet(n_input = train_X.shape[1], n_output = 10, hidden_layer_size = 500, reg = 1e-2)\n",
    "dataset = Dataset(train_X[:data_size], train_y[:data_size], val_X[:data_size], val_y[:data_size])\n",
    "# TODO: Change any hyperparamers or optimizators to reach training accuracy in 20 epochs\n",
    "trainer = Trainer(model, dataset, SGD(), learning_rate = 1e-1, num_epochs=20, batch_size = 2)\n",
    "\n",
    "loss_history, train_history, val_history = trainer.fit()\n"
   ]
  },
  {
   "cell_type": "markdown",
   "metadata": {},
   "source": [
    "# Итак, основное мероприятие!\n",
    "\n",
    "Натренируйте лучшую нейросеть! Можно добавлять и изменять параметры, менять количество нейронов в слоях сети и как угодно экспериментировать. \n",
    "\n",
    "Добейтесь точности лучше **60%** на validation set."
   ]
  },
  {
   "cell_type": "code",
   "execution_count": 19,
   "metadata": {
    "scrolled": true
   },
   "outputs": [
    {
     "name": "stdout",
     "output_type": "stream",
     "text": [
      "Epoch: 0, Loss: 2.784131, Train accuracy: 0.196667, val accuracy: 0.206000\n",
      "Epoch: 1, Loss: 2.337632, Train accuracy: 0.196111, val accuracy: 0.205000\n",
      "Epoch: 2, Loss: 2.310744, Train accuracy: 0.183333, val accuracy: 0.186000\n",
      "Epoch: 3, Loss: 2.275988, Train accuracy: 0.198444, val accuracy: 0.210000\n",
      "Epoch: 4, Loss: 2.177135, Train accuracy: 0.271000, val accuracy: 0.274000\n",
      "Epoch: 5, Loss: 2.018697, Train accuracy: 0.338778, val accuracy: 0.334000\n",
      "Epoch: 6, Loss: 1.853744, Train accuracy: 0.403222, val accuracy: 0.401000\n",
      "Epoch: 7, Loss: 1.698646, Train accuracy: 0.494667, val accuracy: 0.480000\n",
      "Epoch: 8, Loss: 1.550062, Train accuracy: 0.526667, val accuracy: 0.530000\n",
      "Epoch: 9, Loss: 1.445440, Train accuracy: 0.588111, val accuracy: 0.570000\n",
      "Epoch: 10, Loss: 1.354691, Train accuracy: 0.629667, val accuracy: 0.618000\n",
      "Epoch: 11, Loss: 1.280809, Train accuracy: 0.659111, val accuracy: 0.639000\n",
      "Epoch: 12, Loss: 1.232653, Train accuracy: 0.665000, val accuracy: 0.649000\n",
      "Epoch: 13, Loss: 1.180940, Train accuracy: 0.699222, val accuracy: 0.683000\n",
      "Epoch: 14, Loss: 1.144767, Train accuracy: 0.704889, val accuracy: 0.676000\n",
      "Epoch: 15, Loss: 1.111169, Train accuracy: 0.710667, val accuracy: 0.666000\n",
      "Epoch: 16, Loss: 1.086545, Train accuracy: 0.730000, val accuracy: 0.691000\n",
      "Epoch: 17, Loss: 1.064132, Train accuracy: 0.740000, val accuracy: 0.707000\n",
      "Epoch: 18, Loss: 1.045786, Train accuracy: 0.744111, val accuracy: 0.706000\n",
      "Epoch: 19, Loss: 1.022335, Train accuracy: 0.756778, val accuracy: 0.723000\n",
      "Epoch: 20, Loss: 1.012054, Train accuracy: 0.760556, val accuracy: 0.697000\n",
      "Epoch: 21, Loss: 1.002535, Train accuracy: 0.770111, val accuracy: 0.710000\n",
      "Epoch: 22, Loss: 0.979951, Train accuracy: 0.769778, val accuracy: 0.718000\n",
      "Epoch: 23, Loss: 0.972744, Train accuracy: 0.777333, val accuracy: 0.723000\n",
      "Epoch: 24, Loss: 0.971933, Train accuracy: 0.782556, val accuracy: 0.723000\n",
      "Epoch: 25, Loss: 0.949404, Train accuracy: 0.781444, val accuracy: 0.733000\n",
      "Epoch: 26, Loss: 0.941367, Train accuracy: 0.796889, val accuracy: 0.737000\n",
      "Epoch: 27, Loss: 0.930898, Train accuracy: 0.804222, val accuracy: 0.744000\n",
      "Epoch: 28, Loss: 0.913062, Train accuracy: 0.808333, val accuracy: 0.742000\n",
      "Epoch: 29, Loss: 0.899565, Train accuracy: 0.802556, val accuracy: 0.734000\n",
      "Epoch: 30, Loss: 0.906299, Train accuracy: 0.813333, val accuracy: 0.739000\n",
      "Epoch: 31, Loss: 0.893918, Train accuracy: 0.808556, val accuracy: 0.741000\n",
      "Epoch: 32, Loss: 0.883378, Train accuracy: 0.823778, val accuracy: 0.740000\n",
      "Epoch: 33, Loss: 0.886694, Train accuracy: 0.827667, val accuracy: 0.748000\n",
      "Epoch: 34, Loss: 0.874885, Train accuracy: 0.827111, val accuracy: 0.742000\n",
      "Epoch: 35, Loss: 0.868663, Train accuracy: 0.825667, val accuracy: 0.733000\n",
      "Epoch: 36, Loss: 0.864679, Train accuracy: 0.833556, val accuracy: 0.752000\n",
      "Epoch: 37, Loss: 0.852397, Train accuracy: 0.844222, val accuracy: 0.746000\n",
      "Epoch: 38, Loss: 0.847670, Train accuracy: 0.836667, val accuracy: 0.747000\n",
      "Epoch: 39, Loss: 0.841909, Train accuracy: 0.836778, val accuracy: 0.745000\n",
      "Epoch: 40, Loss: 0.842671, Train accuracy: 0.851333, val accuracy: 0.753000\n",
      "Epoch: 41, Loss: 0.840779, Train accuracy: 0.857111, val accuracy: 0.747000\n",
      "Epoch: 42, Loss: 0.833731, Train accuracy: 0.852444, val accuracy: 0.755000\n",
      "Epoch: 43, Loss: 0.823352, Train accuracy: 0.851667, val accuracy: 0.753000\n",
      "Epoch: 44, Loss: 0.821664, Train accuracy: 0.866000, val accuracy: 0.759000\n",
      "Epoch: 45, Loss: 0.820095, Train accuracy: 0.857111, val accuracy: 0.756000\n",
      "Epoch: 46, Loss: 0.812883, Train accuracy: 0.870222, val accuracy: 0.762000\n",
      "Epoch: 47, Loss: 0.812259, Train accuracy: 0.857889, val accuracy: 0.747000\n",
      "Epoch: 48, Loss: 0.806842, Train accuracy: 0.874556, val accuracy: 0.765000\n",
      "Epoch: 49, Loss: 0.806197, Train accuracy: 0.877333, val accuracy: 0.751000\n",
      "best validation accuracy achieved: 0.765000\n"
     ]
    }
   ],
   "source": [
    "# Let's train the best one-hidden-layer network we can\n",
    "\n",
    "learning_rates = 1e-2\n",
    "reg_strength = 1e-3\n",
    "learning_rate_decay = 0.999\n",
    "hidden_layer_size = 128\n",
    "num_epochs = 50\n",
    "batch_size = 64\n",
    "\n",
    "best_classifier = None\n",
    "best_val_accuracy = None\n",
    "\n",
    "loss_history = []\n",
    "train_history = []\n",
    "val_history = []\n",
    "\n",
    "# TODO find the best hyperparameters to train the network\n",
    "# Don't hesitate to add new values to the arrays above, perform experiments, use any tricks you want\n",
    "# You should expect to get to at least 40% of valudation accuracy\n",
    "# Save loss/train/history of the best classifier to the variables above\n",
    "dataset = Dataset(train_X, train_y, val_X, val_y)\n",
    "model = TwoLayerNet(n_input = train_X.shape[1], n_output = 25, \n",
    "                                        hidden_layer_size = hidden_layer_size, \n",
    "                                        reg = reg_strength)\n",
    "\n",
    "trainer = Trainer(model, dataset, MomentumSGD(), \n",
    "                                      num_epochs = num_epochs, \n",
    "                                      batch_size = batch_size, \n",
    "                                      learning_rate = learning_rates, \n",
    "                                      learning_rate_decay = learning_rate_decay)\n",
    "loss_history, train_history, val_history = trainer.fit()\n",
    "best_classifier = model\n",
    "print('best validation accuracy achieved: %f' % max(val_history))"
   ]
  },
  {
   "cell_type": "code",
   "execution_count": 20,
   "metadata": {},
   "outputs": [
    {
     "data": {
      "text/plain": [
       "[<matplotlib.lines.Line2D at 0x7f710b104f40>]"
      ]
     },
     "execution_count": 20,
     "metadata": {},
     "output_type": "execute_result"
    },
    {
     "data": {
      "image/png": "[encoded data removed]",
      "text/plain": [
       "<Figure size 1080x504 with 2 Axes>"
      ]
     },
     "metadata": {
      "needs_background": "light"
     },
     "output_type": "display_data"
    }
   ],
   "source": [
    "plt.figure(figsize=(15, 7))\n",
    "plt.subplot(211)\n",
    "plt.title(\"Loss\")\n",
    "plt.plot(loss_history)\n",
    "plt.subplot(212)\n",
    "plt.title(\"Train/validation accuracy\")\n",
    "plt.plot(train_history)\n",
    "plt.plot(val_history)"
   ]
  },
  {
   "cell_type": "markdown",
   "metadata": {},
   "source": [
    "# Как обычно, посмотрим, как наша лучшая модель работает на тестовых данных"
   ]
  },
  {
   "cell_type": "code",
   "execution_count": 21,
   "metadata": {},
   "outputs": [
    {
     "name": "stdout",
     "output_type": "stream",
     "text": [
      "Neural net test set accuracy: 0.724000\n"
     ]
    }
   ],
   "source": [
    "test_pred = best_classifier.predict(test_X)\n",
    "test_accuracy = multiclass_accuracy(test_pred, test_y)\n",
    "print('Neural net test set accuracy: %f' % (test_accuracy, ))"
   ]
  }
 ],
 "metadata": {
  "kernelspec": {
   "display_name": "Python 3 (ipykernel)",
   "language": "python",
   "name": "python3"
  },
  "language_info": {
   "codemirror_mode": {
    "name": "ipython",
    "version": 3
   },
   "file_extension": ".py",
   "mimetype": "text/x-python",
   "name": "python",
   "nbconvert_exporter": "python",
   "pygments_lexer": "ipython3",
   "version": "3.8.10"
  }
 },
 "nbformat": 4,
 "nbformat_minor": 2
}
