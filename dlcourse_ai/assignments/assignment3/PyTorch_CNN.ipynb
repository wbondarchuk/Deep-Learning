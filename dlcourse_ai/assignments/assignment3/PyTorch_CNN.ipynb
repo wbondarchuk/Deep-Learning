{
 "cells": [
  {
   "cell_type": "markdown",
   "metadata": {},
   "source": [
    "# Задание 3.2 - сверточные нейронные сети (CNNs) в PyTorch\n",
    "\n",
    "Это упражнение мы буде выполнять в Google Colab - https://colab.research.google.com/  \n",
    "Google Colab позволяет запускать код в notebook в облаке Google, где можно воспользоваться бесплатным GPU!  \n",
    "\n",
    "Авторы курса благодарят компанию Google и надеятся, что праздник не закончится.\n",
    "\n",
    "Туториал по настройке Google Colab:  \n",
    "https://medium.com/deep-learning-turkey/google-colab-free-gpu-tutorial-e113627b9f5d  \n",
    "(Keras инсталлировать не нужно, наш notebook сам установит PyTorch)\n"
   ]
  },
  {
   "cell_type": "code",
   "execution_count": 1,
   "metadata": {
    "colab": {},
    "colab_type": "code",
    "id": "FcXBeP1O7cnY"
   },
   "outputs": [
    {
     "name": "stdout",
     "output_type": "stream",
     "text": [
      "Requirement already satisfied: torch in /usr/local/lib/python3.8/dist-packages (1.11.0+cu113)\n",
      "Requirement already satisfied: torchvision in /usr/local/lib/python3.8/dist-packages (0.12.0+cu113)\n",
      "Requirement already satisfied: typing-extensions in /usr/local/lib/python3.8/dist-packages (from torch) (4.1.1)\n",
      "Requirement already satisfied: pillow!=8.3.*,>=5.3.0 in /usr/lib/python3/dist-packages (from torchvision) (7.0.0)\n",
      "Requirement already satisfied: numpy in /usr/local/lib/python3.8/dist-packages (from torchvision) (1.22.3)\n",
      "Requirement already satisfied: requests in /usr/lib/python3/dist-packages (from torchvision) (2.22.0)\n",
      "--2022-03-25 19:59:36--  http://ufldl.stanford.edu/housenumbers/train_32x32.mat\n",
      "Распознаётся ufldl.stanford.edu (ufldl.stanford.edu)… 171.64.68.10\n",
      "Подключение к ufldl.stanford.edu (ufldl.stanford.edu)|171.64.68.10|:80... соединение установлено.\n",
      "HTTP-запрос отправлен. Ожидание ответа… 416 Requested Range Not Satisfiable\n",
      "\n",
      "    Файл уже получен полностью; нет действий.\n",
      "\n",
      "--2022-03-25 19:59:36--  http://ufldl.stanford.edu/housenumbers/test_32x32.mat\n",
      "Повторное использование соединения с ufldl.stanford.edu:80.\n",
      "HTTP-запрос отправлен. Ожидание ответа… 416 Requested Range Not Satisfiable\n",
      "\n",
      "    Файл уже получен полностью; нет действий.\n",
      "\n"
     ]
    }
   ],
   "source": [
    "# Intstall PyTorch and download data\n",
    "!pip3 install torch torchvision\n",
    "\n",
    "!wget -c http://ufldl.stanford.edu/housenumbers/train_32x32.mat http://ufldl.stanford.edu/housenumbers/test_32x32.mat"
   ]
  },
  {
   "cell_type": "code",
   "execution_count": 2,
   "metadata": {
    "colab": {},
    "colab_type": "code",
    "id": "-afwWw-Q85vD"
   },
   "outputs": [],
   "source": [
    "from collections import namedtuple\n",
    "\n",
    "import matplotlib.pyplot as plt\n",
    "import numpy as np\n",
    "import PIL\n",
    "import torch\n",
    "import torch.nn as nn\n",
    "import torch.optim as optim\n",
    "import torchvision.datasets as dset\n",
    "from torch.utils.data.sampler import SubsetRandomSampler\n",
    "\n",
    "from torchvision import transforms"
   ]
  },
  {
   "cell_type": "code",
   "execution_count": 3,
   "metadata": {
    "colab": {},
    "colab_type": "code",
    "id": "NNU-OD9O9ltP"
   },
   "outputs": [],
   "source": [
    "device = torch.device(\"cuda:0\") # Let's make sure GPU is available!"
   ]
  },
  {
   "cell_type": "markdown",
   "metadata": {},
   "source": [
    "# Загружаем данные"
   ]
  },
  {
   "cell_type": "code",
   "execution_count": 4,
   "metadata": {
    "colab": {},
    "colab_type": "code",
    "id": "YAvkoRx-9FsP"
   },
   "outputs": [],
   "source": [
    "# First, lets load the dataset\n",
    "data_train = dset.SVHN('./', \n",
    "                       transform=transforms.Compose([\n",
    "                           transforms.ToTensor(),\n",
    "                           transforms.Normalize(mean=[0.43,0.44,0.47],\n",
    "                                               std=[0.20,0.20,0.20])                           \n",
    "                       ])\n",
    "                      )\n",
    "data_test = dset.SVHN('./', split='test', transform=transforms.Compose([\n",
    "                           transforms.ToTensor(),\n",
    "                           transforms.Normalize(mean=[0.43,0.44,0.47],\n",
    "                                               std=[0.20,0.20,0.20])                           \n",
    "                       ]))"
   ]
  },
  {
   "cell_type": "markdown",
   "metadata": {},
   "source": [
    "Разделяем данные на training и validation.\n",
    "\n",
    "На всякий случай для подробностей - https://pytorch.org/tutorials/beginner/data_loading_tutorial.html"
   ]
  },
  {
   "cell_type": "code",
   "execution_count": 5,
   "metadata": {
    "colab": {},
    "colab_type": "code",
    "id": "YRnr8CPg7Hli"
   },
   "outputs": [],
   "source": [
    "batch_size = 64\n",
    "\n",
    "data_size = data_train.data.shape[0]\n",
    "validation_split = .2\n",
    "split = int(np.floor(validation_split * data_size))\n",
    "indices = list(range(data_size))\n",
    "np.random.shuffle(indices)\n",
    "\n",
    "train_indices, val_indices = indices[split:], indices[:split]\n",
    "\n",
    "train_sampler = SubsetRandomSampler(train_indices)\n",
    "val_sampler = SubsetRandomSampler(val_indices)\n",
    "\n",
    "train_loader = torch.utils.data.DataLoader(data_train, batch_size=batch_size, \n",
    "                                           sampler=train_sampler)\n",
    "val_loader = torch.utils.data.DataLoader(data_train, batch_size=batch_size,\n",
    "                                         sampler=val_sampler)"
   ]
  },
  {
   "cell_type": "code",
   "execution_count": 6,
   "metadata": {
    "colab": {},
    "colab_type": "code",
    "id": "LyYvt-T67PBG"
   },
   "outputs": [],
   "source": [
    "# We'll use a special helper module to shape it into a flat tensor\n",
    "class Flattener(nn.Module):\n",
    "    def forward(self, x):\n",
    "        batch_size, *_ = x.shape\n",
    "        return x.view(batch_size, -1)"
   ]
  },
  {
   "cell_type": "markdown",
   "metadata": {},
   "source": [
    "Создадим простейшую сеть с новыми слоями:  \n",
    "Convolutional - `nn.Conv2d`  \n",
    "MaxPool - `nn.MaxPool2d`"
   ]
  },
  {
   "cell_type": "code",
   "execution_count": 7,
   "metadata": {
    "colab": {},
    "colab_type": "code",
    "id": "w9SFVGZP7SQd"
   },
   "outputs": [],
   "source": [
    "nn_model = nn.Sequential(\n",
    "            nn.Conv2d(3, 64, 3, padding=1),\n",
    "            nn.ReLU(inplace=True),\n",
    "            nn.MaxPool2d(4),\n",
    "            nn.Conv2d(64, 64, 3, padding=1),\n",
    "            nn.ReLU(inplace=True),\n",
    "            nn.MaxPool2d(4),    \n",
    "            Flattener(),\n",
    "            nn.Linear(64*2*2, 10),\n",
    "          )\n",
    "\n",
    "nn_model.type(torch.cuda.FloatTensor)\n",
    "nn_model.to(device)\n",
    "\n",
    "loss = nn.CrossEntropyLoss().type(torch.cuda.FloatTensor)\n",
    "optimizer = optim.SGD(nn_model.parameters(), lr=1e-1, weight_decay=1e-4)"
   ]
  },
  {
   "cell_type": "markdown",
   "metadata": {},
   "source": [
    "Восстановите функцию `compute_accuracy` из прошлого задания.  \n",
    "Единственное отличие в новом - она должна передать данные на GPU прежде чем прогонять через модель. Сделайте это так же, как это делает функция `train_model`"
   ]
  },
  {
   "cell_type": "code",
   "execution_count": 8,
   "metadata": {
    "colab": {},
    "colab_type": "code",
    "id": "2ek3KVQK7hJ6"
   },
   "outputs": [
    {
     "name": "stdout",
     "output_type": "stream",
     "text": [
      "Average loss: 1.363599, Train accuracy: 0.545644, Val accuracy: 0.760699\n",
      "Average loss: 0.692723, Train accuracy: 0.789697, Val accuracy: 0.816258\n",
      "Average loss: 0.593414, Train accuracy: 0.820923, Val accuracy: 0.832844\n",
      "Average loss: 0.544684, Train accuracy: 0.836160, Val accuracy: 0.841786\n",
      "Average loss: 0.512766, Train accuracy: 0.848121, Val accuracy: 0.844379\n"
     ]
    }
   ],
   "source": [
    "def train_model(model, train_loader, val_loader, loss, optimizer, num_epochs):    \n",
    "    loss_history = []\n",
    "    train_history = []\n",
    "    val_history = []\n",
    "    for epoch in range(num_epochs):\n",
    "        model.train() # Enter train mode\n",
    "        \n",
    "        loss_accum = 0\n",
    "        correct_samples = 0\n",
    "        total_samples = 0\n",
    "        for i_step, (x, y) in enumerate(train_loader):\n",
    "          \n",
    "            x_gpu = x.to(device)\n",
    "            y_gpu = y.to(device)\n",
    "            prediction = model(x_gpu)    \n",
    "            loss_value = loss(prediction, y_gpu)\n",
    "            optimizer.zero_grad()\n",
    "            loss_value.backward()\n",
    "            optimizer.step()\n",
    "            \n",
    "            _, indices = torch.max(prediction, 1)\n",
    "            correct_samples += torch.sum(indices == y_gpu)\n",
    "            total_samples += y.shape[0]\n",
    "            \n",
    "            loss_accum += loss_value\n",
    "\n",
    "        ave_loss = loss_accum / i_step\n",
    "        train_accuracy = float(correct_samples) / total_samples\n",
    "        val_accuracy = compute_accuracy(model, val_loader)\n",
    "        \n",
    "        loss_history.append(float(ave_loss))\n",
    "        train_history.append(train_accuracy)\n",
    "        val_history.append(val_accuracy)\n",
    "        \n",
    "        print(\"Average loss: %f, Train accuracy: %f, Val accuracy: %f\" % (ave_loss, train_accuracy, val_accuracy))\n",
    "        \n",
    "    return loss_history, train_history, val_history\n",
    "        \n",
    "def compute_accuracy(model, loader):\n",
    "    \"\"\"\n",
    "    Computes accuracy on the dataset wrapped in a loader\n",
    "    \n",
    "    Returns: accuracy as a float value between 0 and 1\n",
    "    \"\"\"\n",
    "    model.eval() # Evaluation mode\n",
    "    # TODO: Copy implementation from previous assignment\n",
    "    # Don't forget to move the data to device before running it through the model!\n",
    "    \n",
    "    true_Counter = 0 \n",
    "    total_Counter = 0 \n",
    "    with torch.no_grad():\n",
    "        for i_step, (x, y) in enumerate(loader):\n",
    "                x_gpu = x.to(device)\n",
    "                y_gpu = y.to(device)\n",
    "                prediction = torch.argmax(model(x_gpu) , 1)    \n",
    "                for i in range(len(prediction)):\n",
    "                    if prediction[i] == y_gpu[i]:\n",
    "                        true_Counter += float(1)\n",
    "                total_Counter += float(len(prediction))\n",
    "                \n",
    "                del prediction\n",
    "\n",
    "    return float(true_Counter/total_Counter)\n",
    "\n",
    "loss_history, train_history, val_history = train_model(nn_model, train_loader, val_loader, loss, optimizer, 5)"
   ]
  },
  {
   "cell_type": "markdown",
   "metadata": {
    "colab_type": "text",
    "id": "6a-3a1ZFGEw_"
   },
   "source": [
    "# Аугментация данных (Data augmentation)\n",
    "\n",
    "В работе с изображениями одним из особенно важных методов является аугментация данных - то есть, генерация дополнительных данных для тренировки на основе изначальных.   \n",
    "Таким образом, мы получаем возможность \"увеличить\" набор данных для тренировки, что ведет к лучшей работе сети.\n",
    "Важно, чтобы аугментированные данные были похожи на те, которые могут встретиться в реальной жизни, иначе польза от аугментаций уменьшается и может ухудшить работу сети.\n",
    "\n",
    "С PyTorch идут несколько таких алгоритмов, называемых `transforms`. Более подробно про них можно прочитать тут -\n",
    "https://pytorch.org/tutorials/beginner/data_loading_tutorial.html#transforms\n",
    "\n",
    "Ниже мы используем следующие алгоритмы генерации:\n",
    "- ColorJitter - случайное изменение цвета\n",
    "- RandomHorizontalFlip - горизонтальное отражение с вероятностью 50%\n",
    "- RandomVerticalFlip - вертикальное отражение с вероятностью 50%\n",
    "- RandomRotation - случайный поворот"
   ]
  },
  {
   "cell_type": "code",
   "execution_count": 9,
   "metadata": {
    "colab": {},
    "colab_type": "code",
    "id": "jCWMUWmr7t5g"
   },
   "outputs": [
    {
     "name": "stderr",
     "output_type": "stream",
     "text": [
      "/home/vbond/Загрузки/Deep-Learning/dlcourse_ai/.venv/lib/python3.8/site-packages/torchvision/transforms/transforms.py:1292: UserWarning: The parameter 'resample' is deprecated since 0.12 and will be removed 0.14. Please use 'interpolation' instead.\n",
      "  warnings.warn(\n"
     ]
    }
   ],
   "source": [
    "tfs = transforms.Compose([\n",
    "    transforms.ColorJitter(hue=.50, saturation=.50),\n",
    "    transforms.RandomHorizontalFlip(),\n",
    "    transforms.RandomVerticalFlip(),\n",
    "    transforms.RandomRotation(50, resample=PIL.Image.BILINEAR),\n",
    "    transforms.ToTensor(),\n",
    "    transforms.Normalize(mean=[0.43,0.44,0.47],\n",
    "                       std=[0.20,0.20,0.20])                           \n",
    "])\n",
    "\n",
    "# Create augmented train dataset\n",
    "data_aug_train = dset.SVHN('./', \n",
    "                       transform=tfs\n",
    "                      )\n",
    "\n",
    "train_aug_loader = torch.utils.data.DataLoader(data_aug_train, batch_size=batch_size, \n",
    "                                           sampler=train_sampler)"
   ]
  },
  {
   "cell_type": "markdown",
   "metadata": {},
   "source": [
    "Визуализируем результаты агментации (вообще, смотреть на сгенерированные данные всегда очень полезно)."
   ]
  },
  {
   "cell_type": "code",
   "execution_count": 10,
   "metadata": {
    "colab": {},
    "colab_type": "code",
    "id": "YlJJEro1KZ45"
   },
   "outputs": [
    {
     "data": {
      "image/png": "[encoded data removed]",
      "text/plain": [
       "<Figure size 2160x216 with 10 Axes>"
      ]
     },
     "metadata": {
      "needs_background": "light"
     },
     "output_type": "display_data"
    }
   ],
   "source": [
    "# TODO: Visualize some augmented images!\n",
    "# hint: you can create new datasets and loaders to accomplish this\n",
    "\n",
    "# Based on the visualizations, should we keep all the augmentations?\n",
    "\n",
    "tfs = transforms.Compose([\n",
    "    transforms.ColorJitter(hue=.20, saturation=.20),\n",
    "    transforms.RandomHorizontalFlip(),\n",
    "    transforms.RandomVerticalFlip(),\n",
    "    transforms.RandomRotation(10, resample=PIL.Image.BILINEAR),\n",
    "])\n",
    "\n",
    "data_aug_vis = dset.SVHN('./', \n",
    "                       transform=tfs\n",
    "                      )\n",
    "\n",
    "plt.figure(figsize=(30, 3))\n",
    "\n",
    "for i, (x, y) in enumerate(data_aug_vis):\n",
    "    if i == 10:\n",
    "        break\n",
    "    plt.subplot(1, 10, i+1)\n",
    "    plt.grid(False)\n",
    "    plt.imshow(x)\n",
    "    plt.axis('off')"
   ]
  },
  {
   "cell_type": "markdown",
   "metadata": {
    "colab_type": "text",
    "id": "o2LrmsYHoguB"
   },
   "source": [
    "Все ли агментации одинаково полезны на этом наборе данных? Могут ли быть среди них те, которые собьют модель с толку?\n",
    "\n",
    "Выберите из них только корректные"
   ]
  },
  {
   "cell_type": "code",
   "execution_count": 11,
   "metadata": {
    "colab": {},
    "colab_type": "code",
    "id": "evro9ksXGs9u"
   },
   "outputs": [
    {
     "data": {
      "image/png": "[encoded data removed]",
      "text/plain": [
       "<Figure size 2160x216 with 10 Axes>"
      ]
     },
     "metadata": {
      "needs_background": "light"
     },
     "output_type": "display_data"
    }
   ],
   "source": [
    "# TODO: \n",
    "tfs = transforms.Compose([\n",
    "    # TODO: Add good augmentations\n",
    "    transforms.ColorJitter(hue=.20, saturation=.20),\n",
    "    transforms.RandomRotation(10, resample=PIL.Image.BILINEAR),\n",
    "    transforms.ToTensor(),\n",
    "    transforms.Normalize(mean=[0.43,0.44,0.47],\n",
    "                       std=[0.20,0.20,0.20])                           \n",
    "])\n",
    "\n",
    "# TODO create new instances of loaders with the augmentations you chose\n",
    "train_aug_loader = torch.utils.data.DataLoader(data_aug_train, batch_size=batch_size, \n",
    "                                           sampler=train_sampler)\n",
    "\n",
    "plt.figure(figsize=(30, 3))\n",
    "\n",
    "for i, (x, y) in enumerate(data_aug_vis):\n",
    "    if i == 10:\n",
    "        break\n",
    "    plt.subplot(1, 10, i+1)\n",
    "    plt.grid(False)\n",
    "    plt.imshow(x)\n",
    "    plt.axis('off')"
   ]
  },
  {
   "cell_type": "code",
   "execution_count": 12,
   "metadata": {
    "colab": {},
    "colab_type": "code",
    "id": "PeO6Zw0DHqPR"
   },
   "outputs": [
    {
     "name": "stdout",
     "output_type": "stream",
     "text": [
      "Average loss: 1.958920, Train accuracy: 0.308364, Val accuracy: 0.458604\n",
      "Average loss: 1.710824, Train accuracy: 0.389619, Val accuracy: 0.539212\n",
      "Average loss: 1.607980, Train accuracy: 0.428864, Val accuracy: 0.487475\n",
      "Average loss: 1.544120, Train accuracy: 0.456114, Val accuracy: 0.502764\n",
      "Average loss: 1.497481, Train accuracy: 0.471539, Val accuracy: 0.525698\n"
     ]
    }
   ],
   "source": [
    "# Finally, let's train with augmentations!\n",
    "\n",
    "# Note we shouldn't use augmentations on validation\n",
    "\n",
    "loss_history, train_history, val_history = train_model(nn_model, train_aug_loader, val_loader, loss, optimizer, 5)"
   ]
  },
  {
   "cell_type": "markdown",
   "metadata": {
    "colab_type": "text",
    "id": "r0bcioK6JBDK"
   },
   "source": [
    "# LeNet\n",
    "Попробуем имплементировать классическую архитектуру сверточной нейронной сети, предложенную Яном ЛеКуном в 1998 году. В свое время она достигла впечатляющих результатов на MNIST, посмотрим как она справится с SVHN?\n",
    "Она описана в статье [\"Gradient Based Learning Applied to Document Recognition\"](http://yann.lecun.com/exdb/publis/pdf/lecun-01a.pdf), попробуйте прочитать ключевые части и имплементировать предложенную архитетуру на PyTorch.\n",
    "\n",
    "Реализовывать слои и функцию ошибки LeNet, которых нет в PyTorch, **не нужно** - просто возьмите их размеры и переведите в уже известные нам Convolutional, Pooling и Fully Connected layers.\n",
    "\n",
    "Если в статье не очень понятно, можно просто погуглить LeNet и разобраться в деталях :)"
   ]
  },
  {
   "cell_type": "code",
   "execution_count": 13,
   "metadata": {
    "colab": {},
    "colab_type": "code",
    "id": "ieEzZUglJAUB"
   },
   "outputs": [],
   "source": [
    "# TODO: Implement LeNet-like architecture for SVHN task\n",
    "lenet_model = nn.Sequential(\n",
    "            nn.Conv2d(in_channels=3, out_channels=6, kernel_size=5, stride=1),\n",
    "            nn.ReLU(inplace=True),\n",
    "            nn.MaxPool2d(kernel_size=2),\n",
    "            nn.Conv2d(in_channels=6, out_channels=16, kernel_size=5, stride=1),\n",
    "            nn.ReLU(inplace=True),\n",
    "            nn.MaxPool2d(kernel_size=2), \n",
    "            nn.Conv2d(in_channels=16, out_channels=120, kernel_size=5, stride=1),\n",
    "            nn.ReLU(inplace=True),\n",
    "            Flattener(),\n",
    "            nn.Linear(in_features=120, out_features=84),\n",
    "            nn.ReLU(inplace=True),\n",
    "            nn.Linear(in_features=84, out_features=10),\n",
    "          )\n",
    "\n",
    "lenet_model.type(torch.cuda.FloatTensor)\n",
    "lenet_model.to(device)\n",
    "\n",
    "loss = nn.CrossEntropyLoss().type(torch.cuda.FloatTensor)\n",
    "optimizer = optim.SGD(lenet_model.parameters(), lr=1e-1, weight_decay=1e-4)"
   ]
  },
  {
   "cell_type": "code",
   "execution_count": 14,
   "metadata": {
    "colab": {},
    "colab_type": "code",
    "id": "WMmaPfdeKk9H"
   },
   "outputs": [
    {
     "name": "stdout",
     "output_type": "stream",
     "text": [
      "Average loss: 2.184181, Train accuracy: 0.206958, Val accuracy: 0.289332\n",
      "Average loss: 1.684370, Train accuracy: 0.408798, Val accuracy: 0.537438\n",
      "Average loss: 1.330758, Train accuracy: 0.541634, Val accuracy: 0.569586\n",
      "Average loss: 1.177212, Train accuracy: 0.599205, Val accuracy: 0.633063\n",
      "Average loss: 1.095393, Train accuracy: 0.625294, Val accuracy: 0.641117\n",
      "Average loss: 1.036874, Train accuracy: 0.645378, Val accuracy: 0.656133\n",
      "Average loss: 1.002483, Train accuracy: 0.657919, Val accuracy: 0.672377\n",
      "Average loss: 0.973078, Train accuracy: 0.667065, Val accuracy: 0.688895\n",
      "Average loss: 0.949012, Train accuracy: 0.676927, Val accuracy: 0.678588\n",
      "Average loss: 0.929217, Train accuracy: 0.681022, Val accuracy: 0.711146\n"
     ]
    }
   ],
   "source": [
    "# Let's train it!\n",
    "loss_history, train_history, val_history = train_model(lenet_model, train_aug_loader, val_loader, loss, optimizer, 10)"
   ]
  },
  {
   "cell_type": "markdown",
   "metadata": {
    "colab_type": "text",
    "id": "u_O9qiYySvuj"
   },
   "source": [
    "# Подбор гиперпараметров"
   ]
  },
  {
   "cell_type": "code",
   "execution_count": 18,
   "metadata": {
    "colab": {},
    "colab_type": "code",
    "id": "i6mhfdQ9K-N3"
   },
   "outputs": [
    {
     "name": "stdout",
     "output_type": "stream",
     "text": [
      "lr: 0.100000, wd: 0.001000\n",
      "Average loss: 2.117243, Train accuracy: 0.236017, Val accuracy: 0.398744\n",
      "Average loss: 1.540628, Train accuracy: 0.461745, Val accuracy: 0.535117\n",
      "Average loss: 1.255406, Train accuracy: 0.571546, Val accuracy: 0.595113\n",
      "Average loss: 1.122107, Train accuracy: 0.617855, Val accuracy: 0.631220\n",
      "Average loss: 1.049663, Train accuracy: 0.641726, Val accuracy: 0.642960\n",
      "lr: 0.100000, wd: 0.000100\n",
      "Average loss: 0.997517, Train accuracy: 0.659284, Val accuracy: 0.653812\n",
      "Average loss: 0.961191, Train accuracy: 0.671211, Val accuracy: 0.693536\n",
      "Average loss: 0.937531, Train accuracy: 0.679726, Val accuracy: 0.676404\n",
      "Average loss: 0.912650, Train accuracy: 0.685971, Val accuracy: 0.692922\n",
      "Average loss: 0.900438, Train accuracy: 0.690902, Val accuracy: 0.710122\n",
      "lr: 0.100000, wd: 0.000010\n",
      "Average loss: 0.886054, Train accuracy: 0.694895, Val accuracy: 0.720360\n",
      "Average loss: 0.872868, Train accuracy: 0.699297, Val accuracy: 0.719678\n",
      "Average loss: 0.860097, Train accuracy: 0.703904, Val accuracy: 0.698246\n",
      "Average loss: 0.853719, Train accuracy: 0.706173, Val accuracy: 0.718995\n",
      "Average loss: 0.841188, Train accuracy: 0.708613, Val accuracy: 0.742065\n",
      "lr: 0.010000, wd: 0.001000\n",
      "Average loss: 0.746413, Train accuracy: 0.741596, Val accuracy: 0.752577\n",
      "Average loss: 0.732797, Train accuracy: 0.745555, Val accuracy: 0.751348\n",
      "Average loss: 0.722545, Train accuracy: 0.748149, Val accuracy: 0.760767\n",
      "Average loss: 0.712352, Train accuracy: 0.751595, Val accuracy: 0.757081\n",
      "Average loss: 0.708632, Train accuracy: 0.754854, Val accuracy: 0.755853\n",
      "lr: 0.010000, wd: 0.000100\n",
      "Average loss: 0.707731, Train accuracy: 0.753506, Val accuracy: 0.756740\n",
      "Average loss: 0.702412, Train accuracy: 0.755127, Val accuracy: 0.761177\n",
      "Average loss: 0.697053, Train accuracy: 0.758352, Val accuracy: 0.758447\n",
      "Average loss: 0.695289, Train accuracy: 0.756783, Val accuracy: 0.754897\n",
      "Average loss: 0.692774, Train accuracy: 0.758387, Val accuracy: 0.759402\n",
      "lr: 0.010000, wd: 0.000010\n",
      "Average loss: 0.688052, Train accuracy: 0.759615, Val accuracy: 0.758993\n",
      "Average loss: 0.686449, Train accuracy: 0.760485, Val accuracy: 0.759402\n",
      "Average loss: 0.686086, Train accuracy: 0.760417, Val accuracy: 0.767456\n",
      "Average loss: 0.681748, Train accuracy: 0.763574, Val accuracy: 0.750802\n",
      "Average loss: 0.682834, Train accuracy: 0.761987, Val accuracy: 0.761586\n",
      "lr: 0.001000, wd: 0.001000\n",
      "Average loss: 0.675176, Train accuracy: 0.763949, Val accuracy: 0.763293\n",
      "Average loss: 0.674729, Train accuracy: 0.765041, Val accuracy: 0.763293\n",
      "Average loss: 0.670754, Train accuracy: 0.767072, Val accuracy: 0.763702\n",
      "Average loss: 0.672317, Train accuracy: 0.766031, Val accuracy: 0.763975\n",
      "Average loss: 0.667130, Train accuracy: 0.765007, Val accuracy: 0.763224\n",
      "lr: 0.001000, wd: 0.000100\n",
      "Average loss: 0.670409, Train accuracy: 0.765126, Val accuracy: 0.764248\n",
      "Average loss: 0.670365, Train accuracy: 0.766150, Val accuracy: 0.764658\n",
      "Average loss: 0.671355, Train accuracy: 0.765758, Val accuracy: 0.765818\n",
      "Average loss: 0.669567, Train accuracy: 0.766491, Val accuracy: 0.764658\n",
      "Average loss: 0.668035, Train accuracy: 0.766491, Val accuracy: 0.765886\n",
      "lr: 0.001000, wd: 0.000010\n",
      "Average loss: 0.670799, Train accuracy: 0.766372, Val accuracy: 0.764316\n",
      "Average loss: 0.671451, Train accuracy: 0.765178, Val accuracy: 0.764385\n",
      "Average loss: 0.670151, Train accuracy: 0.765212, Val accuracy: 0.766432\n",
      "Average loss: 0.667107, Train accuracy: 0.768624, Val accuracy: 0.768889\n",
      "Average loss: 0.667768, Train accuracy: 0.768130, Val accuracy: 0.768889\n",
      "lr: 0.000100, wd: 0.001000\n",
      "Average loss: 0.668954, Train accuracy: 0.767925, Val accuracy: 0.768753\n",
      "Average loss: 0.666189, Train accuracy: 0.766884, Val accuracy: 0.767934\n",
      "Average loss: 0.668940, Train accuracy: 0.765775, Val accuracy: 0.768070\n",
      "Average loss: 0.665303, Train accuracy: 0.767123, Val accuracy: 0.768207\n",
      "Average loss: 0.669773, Train accuracy: 0.765331, Val accuracy: 0.767320\n",
      "lr: 0.000100, wd: 0.000100\n",
      "Average loss: 0.666929, Train accuracy: 0.766918, Val accuracy: 0.767593\n",
      "Average loss: 0.664545, Train accuracy: 0.766270, Val accuracy: 0.767797\n",
      "Average loss: 0.666206, Train accuracy: 0.768164, Val accuracy: 0.767251\n",
      "Average loss: 0.661908, Train accuracy: 0.768403, Val accuracy: 0.766910\n",
      "Average loss: 0.664737, Train accuracy: 0.767669, Val accuracy: 0.767661\n",
      "lr: 0.000100, wd: 0.000010\n",
      "Average loss: 0.663618, Train accuracy: 0.766713, Val accuracy: 0.767797\n",
      "Average loss: 0.665892, Train accuracy: 0.768949, Val accuracy: 0.767524\n",
      "Average loss: 0.665308, Train accuracy: 0.768590, Val accuracy: 0.767388\n",
      "Average loss: 0.664825, Train accuracy: 0.767652, Val accuracy: 0.767047\n",
      "Average loss: 0.667961, Train accuracy: 0.766850, Val accuracy: 0.767388\n"
     ]
    }
   ],
   "source": [
    "# The key hyperparameters we're going to tune are learning speed, annealing rate and regularization\n",
    "# We also encourage you to try different optimizers as well\n",
    "\n",
    "lenet_model = nn.Sequential(\n",
    "            nn.Conv2d(in_channels=3, out_channels=6, kernel_size=5, stride=1),\n",
    "            nn.ReLU(inplace=True),\n",
    "            nn.MaxPool2d(kernel_size=2),\n",
    "            nn.Conv2d(in_channels=6, out_channels=16, kernel_size=5, stride=1),\n",
    "            nn.ReLU(inplace=True),\n",
    "            nn.MaxPool2d(kernel_size=2), \n",
    "            nn.Conv2d(in_channels=16, out_channels=120, kernel_size=5, stride=1),\n",
    "            nn.ReLU(inplace=True),\n",
    "            Flattener(),\n",
    "            nn.Linear(in_features=120, out_features=84),\n",
    "            nn.ReLU(inplace=True),\n",
    "            nn.Linear(in_features=84, out_features=10),\n",
    "          )\n",
    "\n",
    "lenet_model.type(torch.cuda.FloatTensor)\n",
    "lenet_model.to(device)\n",
    "\n",
    "loss = nn.CrossEntropyLoss().type(torch.cuda.FloatTensor)\n",
    "\n",
    "\n",
    "\n",
    "Hyperparams = namedtuple(\"Hyperparams\", ['learning_rate', 'reg'])\n",
    "RunResult = namedtuple(\"RunResult\", ['model', 'train_history', 'val_history', 'final_val_accuracy'])\n",
    "\n",
    "learning_rates = [1e-1, 1e-2, 1e-3, 1e-4]\n",
    "anneal_coeff = 0.2\n",
    "anneal_epochs = [1, 5, 10, 15, 20, 50]\n",
    "reg = [1e-3, 1e-4, 1e-5]\n",
    "\n",
    "batch_size = 64\n",
    "epoch_num = 5\n",
    "\n",
    "# Record all the runs here\n",
    "# Key should be Hyperparams and values should be RunResult\n",
    "run_record = {} \n",
    "\n",
    "# Use grid search or random search and record all runs in run_record dictionnary \n",
    "# Important: perform search in logarithmic space!\n",
    "\n",
    "# TODO: Your code here!\n",
    "for learning_rate in learning_rates:\n",
    "    for wd in reg:\n",
    "        print(\"lr: %f, wd: %f\" % (learning_rate, wd))\n",
    "        optimizer = optim.SGD(lenet_model.parameters(), lr=learning_rate, weight_decay=wd)\n",
    "        loss_history, train_history, val_history = train_model(lenet_model, train_aug_loader, val_loader, loss, optimizer, epoch_num)\n",
    "        run_record[Hyperparams(learning_rate, wd)] = RunResult(lenet_model, train_history, val_history, val_history[-1])"
   ]
  },
  {
   "cell_type": "code",
   "execution_count": 19,
   "metadata": {
    "colab": {
     "base_uri": "https://localhost:8080/",
     "height": 34
    },
    "colab_type": "code",
    "id": "Y6xExdw8JB1l",
    "outputId": "a9ad86f8-3e29-45cc-d33f-e6170018a4ed"
   },
   "outputs": [
    {
     "name": "stdout",
     "output_type": "stream",
     "text": [
      "Best validation accuracy: 0.77, best hyperparams: Hyperparams(learning_rate=0.001, reg=1e-05)\n"
     ]
    }
   ],
   "source": [
    "best_val_accuracy = None\n",
    "best_hyperparams = None\n",
    "best_run = None\n",
    "\n",
    "for hyperparams, run_result in run_record.items():\n",
    "    if best_val_accuracy is None or best_val_accuracy < run_result.final_val_accuracy:\n",
    "        best_val_accuracy = run_result.final_val_accuracy\n",
    "        best_hyperparams = hyperparams\n",
    "        best_run = run_result\n",
    "        \n",
    "print(\"Best validation accuracy: %4.2f, best hyperparams: %s\" % (best_val_accuracy, best_hyperparams))\n",
    "        "
   ]
  },
  {
   "cell_type": "markdown",
   "metadata": {
    "colab_type": "text",
    "id": "LOmsR0uVgtgf"
   },
   "source": [
    "# Свободное упражнение - догоним и перегоним LeNet!\n",
    "\n",
    "Попробуйте найти архитектуру и настройки тренировки, чтобы выступить лучше наших бейзлайнов.\n",
    "\n",
    "Что можно и нужно попробовать:\n",
    "- BatchNormalization (для convolution layers он в PyTorch называется [batchnorm2d](https://pytorch.org/docs/stable/nn.html#batchnorm2d))\n",
    "- Изменить количество слоев и их толщину\n",
    "- Изменять количество эпох тренировки\n",
    "- Попробовать и другие агментации"
   ]
  },
  {
   "cell_type": "code",
   "execution_count": 20,
   "metadata": {
    "colab": {},
    "colab_type": "code",
    "id": "tSVhD747icoc"
   },
   "outputs": [
    {
     "name": "stdout",
     "output_type": "stream",
     "text": [
      "lr: 0.100000, wd: 0.001000\n",
      "Average loss: 0.873274, Train accuracy: 0.716480, Val accuracy: 0.856256\n",
      "Average loss: 0.529925, Train accuracy: 0.834966, Val accuracy: 0.878916\n",
      "Average loss: 0.474170, Train accuracy: 0.852728, Val accuracy: 0.884308\n",
      "Average loss: 0.443301, Train accuracy: 0.864621, Val accuracy: 0.894478\n",
      "Average loss: 0.418690, Train accuracy: 0.870525, Val accuracy: 0.884376\n",
      "Average loss: 0.402842, Train accuracy: 0.875849, Val accuracy: 0.902259\n",
      "Average loss: 0.390017, Train accuracy: 0.880046, Val accuracy: 0.898915\n",
      "Average loss: 0.385421, Train accuracy: 0.881292, Val accuracy: 0.897959\n",
      "Average loss: 0.375834, Train accuracy: 0.885148, Val accuracy: 0.903556\n",
      "Average loss: 0.369570, Train accuracy: 0.886889, Val accuracy: 0.899939\n",
      "lr: 0.100000, wd: 0.000100\n",
      "Average loss: 0.359151, Train accuracy: 0.889653, Val accuracy: 0.903829\n",
      "Average loss: 0.345926, Train accuracy: 0.893509, Val accuracy: 0.905877\n",
      "Average loss: 0.336803, Train accuracy: 0.896359, Val accuracy: 0.910040\n",
      "Average loss: 0.323162, Train accuracy: 0.900317, Val accuracy: 0.910723\n",
      "Average loss: 0.316044, Train accuracy: 0.903030, Val accuracy: 0.907651\n",
      "Average loss: 0.307495, Train accuracy: 0.904856, Val accuracy: 0.909562\n",
      "Average loss: 0.299898, Train accuracy: 0.908166, Val accuracy: 0.914955\n",
      "Average loss: 0.292791, Train accuracy: 0.909992, Val accuracy: 0.912702\n",
      "Average loss: 0.288444, Train accuracy: 0.911101, Val accuracy: 0.912497\n",
      "Average loss: 0.282855, Train accuracy: 0.912637, Val accuracy: 0.913931\n",
      "lr: 0.100000, wd: 0.000010\n",
      "Average loss: 0.278383, Train accuracy: 0.913865, Val accuracy: 0.911747\n",
      "Average loss: 0.275972, Train accuracy: 0.915452, Val accuracy: 0.912770\n",
      "Average loss: 0.266194, Train accuracy: 0.917261, Val accuracy: 0.917207\n",
      "Average loss: 0.264198, Train accuracy: 0.918524, Val accuracy: 0.913863\n",
      "Average loss: 0.262015, Train accuracy: 0.919036, Val accuracy: 0.915228\n",
      "Average loss: 0.258178, Train accuracy: 0.919872, Val accuracy: 0.918777\n",
      "Average loss: 0.254551, Train accuracy: 0.920913, Val accuracy: 0.918367\n",
      "Average loss: 0.251997, Train accuracy: 0.922670, Val accuracy: 0.915091\n",
      "Average loss: 0.247203, Train accuracy: 0.922636, Val accuracy: 0.911474\n",
      "Average loss: 0.246247, Train accuracy: 0.923148, Val accuracy: 0.917753\n",
      "lr: 0.010000, wd: 0.001000\n",
      "Average loss: 0.214417, Train accuracy: 0.934239, Val accuracy: 0.921780\n",
      "Average loss: 0.202910, Train accuracy: 0.937157, Val accuracy: 0.922940\n",
      "Average loss: 0.200665, Train accuracy: 0.938215, Val accuracy: 0.922531\n",
      "Average loss: 0.197136, Train accuracy: 0.940501, Val accuracy: 0.922053\n",
      "Average loss: 0.196961, Train accuracy: 0.939818, Val accuracy: 0.923896\n",
      "Average loss: 0.192818, Train accuracy: 0.941371, Val accuracy: 0.922804\n",
      "Average loss: 0.194172, Train accuracy: 0.942890, Val accuracy: 0.922394\n",
      "Average loss: 0.189378, Train accuracy: 0.942173, Val accuracy: 0.922190\n",
      "Average loss: 0.190541, Train accuracy: 0.941747, Val accuracy: 0.922736\n",
      "Average loss: 0.186928, Train accuracy: 0.943316, Val accuracy: 0.922599\n",
      "lr: 0.010000, wd: 0.000100\n",
      "Average loss: 0.187797, Train accuracy: 0.943333, Val accuracy: 0.922804\n",
      "Average loss: 0.187035, Train accuracy: 0.943095, Val accuracy: 0.921644\n",
      "Average loss: 0.184444, Train accuracy: 0.944255, Val accuracy: 0.923350\n",
      "Average loss: 0.181245, Train accuracy: 0.945791, Val accuracy: 0.922667\n",
      "Average loss: 0.177339, Train accuracy: 0.945245, Val accuracy: 0.923282\n",
      "Average loss: 0.185799, Train accuracy: 0.943351, Val accuracy: 0.922190\n",
      "Average loss: 0.180923, Train accuracy: 0.943999, Val accuracy: 0.921985\n",
      "Average loss: 0.179702, Train accuracy: 0.944579, Val accuracy: 0.922121\n",
      "Average loss: 0.178752, Train accuracy: 0.945381, Val accuracy: 0.921985\n",
      "Average loss: 0.179580, Train accuracy: 0.944972, Val accuracy: 0.923145\n",
      "lr: 0.010000, wd: 0.000010\n",
      "Average loss: 0.174535, Train accuracy: 0.946132, Val accuracy: 0.921302\n",
      "Average loss: 0.172935, Train accuracy: 0.947599, Val accuracy: 0.921917\n",
      "Average loss: 0.175800, Train accuracy: 0.946405, Val accuracy: 0.922258\n",
      "Average loss: 0.173641, Train accuracy: 0.946558, Val accuracy: 0.921985\n",
      "Average loss: 0.175585, Train accuracy: 0.945518, Val accuracy: 0.921507\n",
      "Average loss: 0.170443, Train accuracy: 0.946115, Val accuracy: 0.922531\n",
      "Average loss: 0.172458, Train accuracy: 0.946456, Val accuracy: 0.922531\n",
      "Average loss: 0.171818, Train accuracy: 0.946661, Val accuracy: 0.922394\n",
      "Average loss: 0.173552, Train accuracy: 0.946968, Val accuracy: 0.921371\n",
      "Average loss: 0.169965, Train accuracy: 0.947531, Val accuracy: 0.922394\n",
      "lr: 0.001000, wd: 0.001000\n",
      "Average loss: 0.167770, Train accuracy: 0.948111, Val accuracy: 0.924306\n",
      "Average loss: 0.166204, Train accuracy: 0.949476, Val accuracy: 0.923418\n",
      "Average loss: 0.165361, Train accuracy: 0.948691, Val accuracy: 0.923077\n",
      "Average loss: 0.163032, Train accuracy: 0.949050, Val accuracy: 0.923009\n",
      "Average loss: 0.163980, Train accuracy: 0.949937, Val accuracy: 0.922326\n",
      "Average loss: 0.166324, Train accuracy: 0.949527, Val accuracy: 0.923282\n",
      "Average loss: 0.163226, Train accuracy: 0.951234, Val accuracy: 0.922736\n",
      "Average loss: 0.162356, Train accuracy: 0.949118, Val accuracy: 0.922326\n",
      "Average loss: 0.163112, Train accuracy: 0.950142, Val accuracy: 0.921848\n",
      "Average loss: 0.163594, Train accuracy: 0.949630, Val accuracy: 0.921371\n",
      "lr: 0.001000, wd: 0.000100\n",
      "Average loss: 0.164063, Train accuracy: 0.950090, Val accuracy: 0.923213\n",
      "Average loss: 0.161724, Train accuracy: 0.950602, Val accuracy: 0.922258\n",
      "Average loss: 0.166001, Train accuracy: 0.949203, Val accuracy: 0.922531\n",
      "Average loss: 0.162428, Train accuracy: 0.950159, Val accuracy: 0.922667\n",
      "Average loss: 0.162455, Train accuracy: 0.949920, Val accuracy: 0.922599\n",
      "Average loss: 0.163686, Train accuracy: 0.948742, Val accuracy: 0.921439\n",
      "Average loss: 0.163873, Train accuracy: 0.949493, Val accuracy: 0.921371\n",
      "Average loss: 0.160472, Train accuracy: 0.950432, Val accuracy: 0.922599\n",
      "Average loss: 0.162094, Train accuracy: 0.950295, Val accuracy: 0.923077\n",
      "Average loss: 0.161940, Train accuracy: 0.950705, Val accuracy: 0.923213\n",
      "lr: 0.001000, wd: 0.000010\n",
      "Average loss: 0.163409, Train accuracy: 0.950159, Val accuracy: 0.922463\n",
      "Average loss: 0.160080, Train accuracy: 0.949817, Val accuracy: 0.922940\n",
      "Average loss: 0.162224, Train accuracy: 0.949852, Val accuracy: 0.922736\n",
      "Average loss: 0.163010, Train accuracy: 0.949920, Val accuracy: 0.921644\n",
      "Average loss: 0.162495, Train accuracy: 0.950073, Val accuracy: 0.922940\n",
      "Average loss: 0.162136, Train accuracy: 0.950432, Val accuracy: 0.922121\n",
      "Average loss: 0.163736, Train accuracy: 0.950022, Val accuracy: 0.923077\n",
      "Average loss: 0.162222, Train accuracy: 0.950585, Val accuracy: 0.922121\n",
      "Average loss: 0.161575, Train accuracy: 0.950125, Val accuracy: 0.921985\n",
      "Average loss: 0.160691, Train accuracy: 0.949834, Val accuracy: 0.922053\n",
      "lr: 0.000100, wd: 0.001000\n",
      "Average loss: 0.161238, Train accuracy: 0.950073, Val accuracy: 0.922053\n",
      "Average loss: 0.159727, Train accuracy: 0.951182, Val accuracy: 0.920756\n",
      "Average loss: 0.162003, Train accuracy: 0.950142, Val accuracy: 0.923009\n",
      "Average loss: 0.160478, Train accuracy: 0.950466, Val accuracy: 0.921848\n",
      "Average loss: 0.160262, Train accuracy: 0.950602, Val accuracy: 0.921985\n",
      "Average loss: 0.159617, Train accuracy: 0.951046, Val accuracy: 0.922940\n",
      "Average loss: 0.161276, Train accuracy: 0.950398, Val accuracy: 0.923759\n",
      "Average loss: 0.163120, Train accuracy: 0.949664, Val accuracy: 0.921917\n",
      "Average loss: 0.161697, Train accuracy: 0.949937, Val accuracy: 0.922326\n",
      "Average loss: 0.157692, Train accuracy: 0.951575, Val accuracy: 0.921780\n",
      "lr: 0.000100, wd: 0.000100\n",
      "Average loss: 0.160961, Train accuracy: 0.950090, Val accuracy: 0.922736\n",
      "Average loss: 0.162443, Train accuracy: 0.949869, Val accuracy: 0.923009\n",
      "Average loss: 0.162649, Train accuracy: 0.950722, Val accuracy: 0.921371\n",
      "Average loss: 0.158925, Train accuracy: 0.951063, Val accuracy: 0.922463\n",
      "Average loss: 0.163498, Train accuracy: 0.949613, Val accuracy: 0.921166\n",
      "Average loss: 0.158786, Train accuracy: 0.951473, Val accuracy: 0.922599\n",
      "Average loss: 0.160757, Train accuracy: 0.950261, Val accuracy: 0.922872\n",
      "Average loss: 0.163506, Train accuracy: 0.949237, Val accuracy: 0.921848\n",
      "Average loss: 0.162908, Train accuracy: 0.949732, Val accuracy: 0.923282\n"
     ]
    },
    {
     "name": "stdout",
     "output_type": "stream",
     "text": [
      "Average loss: 0.162682, Train accuracy: 0.950466, Val accuracy: 0.921371\n",
      "lr: 0.000100, wd: 0.000010\n",
      "Average loss: 0.160909, Train accuracy: 0.950790, Val accuracy: 0.922258\n",
      "Average loss: 0.163022, Train accuracy: 0.950005, Val accuracy: 0.922599\n",
      "Average loss: 0.161462, Train accuracy: 0.950432, Val accuracy: 0.923418\n",
      "Average loss: 0.161724, Train accuracy: 0.950159, Val accuracy: 0.922053\n",
      "Average loss: 0.158475, Train accuracy: 0.951063, Val accuracy: 0.923555\n",
      "Average loss: 0.159998, Train accuracy: 0.950705, Val accuracy: 0.922190\n",
      "Average loss: 0.158755, Train accuracy: 0.950551, Val accuracy: 0.922258\n",
      "Average loss: 0.158264, Train accuracy: 0.950636, Val accuracy: 0.923691\n",
      "Average loss: 0.161273, Train accuracy: 0.950568, Val accuracy: 0.923077\n",
      "Average loss: 0.160259, Train accuracy: 0.950193, Val accuracy: 0.922463\n",
      "Best validation accuracy: 0.92, best hyperparams: Hyperparams(learning_rate=0.001, reg=0.0001)\n"
     ]
    }
   ],
   "source": [
    "# Best validation accuracy: 0.92, best hyperparams: Hyperparams(learning_rate=0.001, reg=0.0001)\n",
    "best_model = nn.Sequential(\n",
    "            nn.Conv2d(in_channels=3, out_channels=6, kernel_size=7, stride=1, padding=1),\n",
    "            nn.ReLU(inplace=True),\n",
    "            nn.BatchNorm2d(6),\n",
    "            nn.MaxPool2d(kernel_size=2),\n",
    "            nn.Conv2d(in_channels=6, out_channels=16, kernel_size=7, stride=1, padding=1),\n",
    "            nn.ReLU(inplace=True),\n",
    "            nn.BatchNorm2d(16),\n",
    "            nn.MaxPool2d(kernel_size=2), \n",
    "            nn.Conv2d(in_channels=16, out_channels=120, kernel_size=7, stride=1, padding=1),\n",
    "            nn.ReLU(inplace=True),\n",
    "            nn.BatchNorm2d(120),\n",
    "            Flattener(),\n",
    "            nn.Linear(in_features=120, out_features=84),\n",
    "            nn.ReLU(inplace=True),\n",
    "            nn.BatchNorm1d(84),\n",
    "            nn.Linear(in_features=84, out_features=10),\n",
    "          )\n",
    "\n",
    "best_model.type(torch.cuda.FloatTensor)\n",
    "best_model.to(device)\n",
    "\n",
    "tfs = transforms.Compose([\n",
    "    transforms.ColorJitter(hue=.50, saturation=.50),\n",
    "    transforms.RandomRotation(20, resample=PIL.Image.BILINEAR),\n",
    "    transforms.ToTensor(),\n",
    "    transforms.Normalize(mean=[0.43,0.44,0.47],\n",
    "                       std=[0.20,0.20,0.20])                           \n",
    "])\n",
    "\n",
    "data_aug_train = dset.SVHN('./', \n",
    "                       transform=tfs\n",
    "                      )\n",
    "\n",
    "train_aug_loader = torch.utils.data.DataLoader(data_aug_train, batch_size=batch_size, \n",
    "                                           sampler=train_sampler)\n",
    "\n",
    "Hyperparams = namedtuple(\"Hyperparams\", ['learning_rate', 'reg'])\n",
    "RunResult = namedtuple(\"RunResult\", ['model', 'train_history', 'val_history', 'final_val_accuracy'])\n",
    "run_record = {} \n",
    "learning_rates = [1e-1, 1e-2, 1e-3, 1e-4]\n",
    "reg = [1e-3, 1e-4, 1e-5]\n",
    "\n",
    "loss = nn.CrossEntropyLoss().type(torch.cuda.FloatTensor)\n",
    "for learning_rate in learning_rates:\n",
    "    for wd in reg:\n",
    "        print(\"lr: %f, wd: %f\" % (learning_rate, wd))\n",
    "        optimizer = optim.SGD(best_model.parameters(), lr=learning_rate, weight_decay=wd)\n",
    "        loss_history, train_history, val_history = train_model(best_model, train_aug_loader, val_loader, loss, optimizer, 10)\n",
    "        run_record[Hyperparams(learning_rate, wd)] = RunResult(best_model, train_history, val_history, val_history[-1])\n",
    "\n",
    "best_val_accuracy = None\n",
    "best_hyperparams = None\n",
    "for hyperparams, run_result in run_record.items():\n",
    "    if best_val_accuracy is None or best_val_accuracy < run_result.final_val_accuracy:\n",
    "        best_val_accuracy = run_result.final_val_accuracy\n",
    "        best_model = run_result.model\n",
    "        best_hyperparams = hyperparams\n",
    "\n",
    "print(\"Best validation accuracy: %4.2f, best hyperparams: %s\" % (best_val_accuracy, best_hyperparams))"
   ]
  },
  {
   "cell_type": "markdown",
   "metadata": {
    "colab_type": "text",
    "id": "ubeKgBcnhx7N"
   },
   "source": [
    "# Финальный аккорд - проверим лучшую модель на test set\n",
    "\n",
    "В качестве разнообразия - напишите код для прогона модели на test set вы.\n",
    "\n",
    "В результате вы должны натренировать модель, которая покажет более **90%** точности на test set.  \n",
    "Как водится, лучший результат в группе получит дополнительные баллы!"
   ]
  },
  {
   "cell_type": "code",
   "execution_count": 21,
   "metadata": {
    "colab": {},
    "colab_type": "code",
    "id": "EIqM1kdeh-hd"
   },
   "outputs": [
    {
     "name": "stdout",
     "output_type": "stream",
     "text": [
      "Final test accuracy -  0.9164105716041795\n"
     ]
    }
   ],
   "source": [
    "# TODO Write the code to compute accuracy on test set\n",
    "test_loader = torch.utils.data.DataLoader(data_test, batch_size=batch_size)\n",
    "final_test_accuracy = compute_accuracy(best_model, test_loader)\n",
    "print(\"Final test accuracy - \", final_test_accuracy)"
   ]
  },
  {
   "cell_type": "code",
   "execution_count": null,
   "metadata": {
    "colab": {},
    "colab_type": "code",
    "id": "BfH6qip6kVX_"
   },
   "outputs": [],
   "source": []
  }
 ],
 "metadata": {
  "accelerator": "GPU",
  "colab": {
   "collapsed_sections": [],
   "name": "PyTorch_CNN.ipynb",
   "provenance": [],
   "version": "0.3.2"
  },
  "kernelspec": {
   "display_name": "Python 3 (ipykernel)",
   "language": "python",
   "name": "python3"
  },
  "language_info": {
   "codemirror_mode": {
    "name": "ipython",
    "version": 3
   },
   "file_extension": ".py",
   "mimetype": "text/x-python",
   "name": "python",
   "nbconvert_exporter": "python",
   "pygments_lexer": "ipython3",
   "version": "3.8.10"
  }
 },
 "nbformat": 4,
 "nbformat_minor": 1
}
